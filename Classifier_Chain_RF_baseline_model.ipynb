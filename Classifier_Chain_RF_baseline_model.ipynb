{
 "cells": [
  {
   "cell_type": "code",
   "execution_count": 6,
   "metadata": {
    "execution": {
     "iopub.execute_input": "2021-06-29T12:38:26.044951Z",
     "iopub.status.busy": "2021-06-29T12:38:26.044456Z",
     "iopub.status.idle": "2021-06-29T12:38:33.498877Z",
     "shell.execute_reply": "2021-06-29T12:38:33.497714Z",
     "shell.execute_reply.started": "2021-06-29T12:38:26.044910Z"
    }
   },
   "outputs": [],
   "source": [
    "#importing important libraries\n",
    "\n",
    "import pandas as pd\n",
    "import numpy as np\n",
    "import matplotlib.pyplot as plt\n",
    "import seaborn as sns\n",
    "import pickle\n",
    "from skmultilearn.model_selection import iterative_train_test_split\n",
    "from iterstrat.ml_stratifiers import MultilabelStratifiedKFold\n",
    "\n",
    "from sklearn.model_selection import KFold\n",
    "from sklearn.model_selection import StratifiedKFold\n",
    "from sklearn.metrics import log_loss,f1_score,confusion_matrix\n",
    "from sklearn.multiclass import OneVsRestClassifier\n",
    "from sklearn.ensemble import RandomForestClassifier\n",
    "import xgboost as xgb\n",
    "from sklearn.metrics import accuracy_score\n",
    "from tensorflow.keras.models import load_model\n",
    "\n",
    "from sklearn.preprocessing import LabelEncoder"
   ]
  },
  {
   "cell_type": "code",
   "execution_count": 7,
   "metadata": {
    "execution": {
     "iopub.execute_input": "2021-06-29T12:38:33.501041Z",
     "iopub.status.busy": "2021-06-29T12:38:33.500640Z",
     "iopub.status.idle": "2021-06-29T12:38:42.221331Z",
     "shell.execute_reply": "2021-06-29T12:38:42.220000Z",
     "shell.execute_reply.started": "2021-06-29T12:38:33.501001Z"
    }
   },
   "outputs": [],
   "source": [
    "#reading train dataset\n",
    "\n",
    "train_features=pd.read_csv('train_features.csv')\n",
    "test_features=pd.read_csv('test_features.csv')\n",
    "train_targets_scored=pd.read_csv('train_targets_scored.csv')\n",
    "train_targets_nonscored=pd.read_csv('lish-moa/train_targets_nonscored.csv')"
   ]
  },
  {
   "cell_type": "code",
   "execution_count": 8,
   "metadata": {
    "execution": {
     "iopub.execute_input": "2021-06-29T12:38:48.791904Z",
     "iopub.status.busy": "2021-06-29T12:38:48.791351Z",
     "iopub.status.idle": "2021-06-29T12:38:48.799155Z",
     "shell.execute_reply": "2021-06-29T12:38:48.797308Z",
     "shell.execute_reply.started": "2021-06-29T12:38:48.791855Z"
    }
   },
   "outputs": [],
   "source": [
    "#list of names of the MoAs in the dataset\n",
    "target_cols_scored=[col for col in train_targets_scored.columns if col not in ['sig_id']]\n",
    "target_cols_nonscored=[col for col in train_targets_nonscored.columns if col not in ['sig_id']]"
   ]
  },
  {
   "cell_type": "code",
   "execution_count": 9,
   "metadata": {
    "execution": {
     "iopub.execute_input": "2021-06-29T12:38:50.982492Z",
     "iopub.status.busy": "2021-06-29T12:38:50.982036Z",
     "iopub.status.idle": "2021-06-29T12:38:50.990176Z",
     "shell.execute_reply": "2021-06-29T12:38:50.988611Z",
     "shell.execute_reply.started": "2021-06-29T12:38:50.982457Z"
    }
   },
   "outputs": [],
   "source": [
    "#separating gene feautres and cell features in a separate list\n",
    "#we know that all the gene expression features name starts with 'g-' and cell features name starts with 'c-', hence trying to observe set of all the gene expression as one function and all the cell functions as one features\n",
    "gene_features=[]\n",
    "cell_features=[]\n",
    "for i in train_features.columns:\n",
    "    if i.startswith('g-'):\n",
    "        gene_features.append(i)\n",
    "    if i.startswith('c-'):\n",
    "        cell_features.append(i)"
   ]
  },
  {
   "cell_type": "code",
   "execution_count": 10,
   "metadata": {
    "execution": {
     "iopub.execute_input": "2021-06-29T12:38:53.063049Z",
     "iopub.status.busy": "2021-06-29T12:38:53.062552Z",
     "iopub.status.idle": "2021-06-29T12:38:53.069599Z",
     "shell.execute_reply": "2021-06-29T12:38:53.068271Z",
     "shell.execute_reply.started": "2021-06-29T12:38:53.063009Z"
    }
   },
   "outputs": [
    {
     "name": "stdout",
     "output_type": "stream",
     "text": [
      "772\n",
      "100\n"
     ]
    }
   ],
   "source": [
    "print(len(gene_features))\n",
    "print(len(cell_features))"
   ]
  },
  {
   "cell_type": "code",
   "execution_count": 11,
   "metadata": {
    "execution": {
     "iopub.execute_input": "2021-06-29T12:38:55.065195Z",
     "iopub.status.busy": "2021-06-29T12:38:55.064706Z",
     "iopub.status.idle": "2021-06-29T12:38:55.288922Z",
     "shell.execute_reply": "2021-06-29T12:38:55.287553Z",
     "shell.execute_reply.started": "2021-06-29T12:38:55.065154Z"
    }
   },
   "outputs": [],
   "source": [
    "#merging the train dataset and train target scored dataset into one\n",
    "train_merge=pd.merge(train_features,train_targets_scored,on=\"sig_id\",how=\"left\")"
   ]
  },
  {
   "cell_type": "code",
   "execution_count": 12,
   "metadata": {
    "execution": {
     "iopub.execute_input": "2021-06-29T12:39:08.246320Z",
     "iopub.status.busy": "2021-06-29T12:39:08.245583Z",
     "iopub.status.idle": "2021-06-29T12:39:08.279396Z",
     "shell.execute_reply": "2021-06-29T12:39:08.277991Z",
     "shell.execute_reply.started": "2021-06-29T12:39:08.246261Z"
    }
   },
   "outputs": [],
   "source": [
    "from sklearn.preprocessing import LabelEncoder\n",
    "le=LabelEncoder()\n",
    "le.fit(train_merge['cp_type'])\n",
    "train_merge['cp_type_le']=le.transform(train_merge['cp_type'])\n",
    "test_features['cp_type_le']=le.transform(test_features['cp_type'])"
   ]
  },
  {
   "cell_type": "code",
   "execution_count": 13,
   "metadata": {
    "execution": {
     "iopub.execute_input": "2021-06-29T12:39:09.803964Z",
     "iopub.status.busy": "2021-06-29T12:39:09.803260Z",
     "iopub.status.idle": "2021-06-29T12:39:09.814361Z",
     "shell.execute_reply": "2021-06-29T12:39:09.813339Z",
     "shell.execute_reply.started": "2021-06-29T12:39:09.803920Z"
    }
   },
   "outputs": [],
   "source": [
    "le1=LabelEncoder()\n",
    "le1.fit(train_merge['cp_time'])\n",
    "train_merge['cp_time_le']=le1.transform(train_merge['cp_time'])\n",
    "test_features['cp_time_le']=le1.transform(test_features['cp_time'])"
   ]
  },
  {
   "cell_type": "code",
   "execution_count": 14,
   "metadata": {
    "execution": {
     "iopub.execute_input": "2021-06-29T12:39:11.555622Z",
     "iopub.status.busy": "2021-06-29T12:39:11.554931Z",
     "iopub.status.idle": "2021-06-29T12:39:11.575496Z",
     "shell.execute_reply": "2021-06-29T12:39:11.574070Z",
     "shell.execute_reply.started": "2021-06-29T12:39:11.555580Z"
    }
   },
   "outputs": [],
   "source": [
    "le2=LabelEncoder()\n",
    "le2.fit(train_merge['cp_dose'])\n",
    "train_merge['cp_dose_le']=le2.transform(train_merge['cp_dose'])\n",
    "test_features['cp_dose_le']=le2.transform(test_features['cp_dose'])"
   ]
  },
  {
   "cell_type": "code",
   "execution_count": 15,
   "metadata": {
    "execution": {
     "iopub.execute_input": "2021-06-29T12:39:32.527307Z",
     "iopub.status.busy": "2021-06-29T12:39:32.526581Z",
     "iopub.status.idle": "2021-06-29T12:39:32.533323Z",
     "shell.execute_reply": "2021-06-29T12:39:32.531873Z",
     "shell.execute_reply.started": "2021-06-29T12:39:32.527265Z"
    }
   },
   "outputs": [],
   "source": [
    "removals=[]\n",
    "removals.append('cp_dose')\n",
    "removals.append('cp_type')\n",
    "removals.append('cp_time')\n",
    "#removals.append('sig_id')\n",
    "#removals.append('MoA_present')"
   ]
  },
  {
   "cell_type": "code",
   "execution_count": 17,
   "metadata": {
    "execution": {
     "iopub.execute_input": "2021-06-29T12:39:48.105865Z",
     "iopub.status.busy": "2021-06-29T12:39:48.104965Z",
     "iopub.status.idle": "2021-06-29T12:39:48.228718Z",
     "shell.execute_reply": "2021-06-29T12:39:48.227436Z",
     "shell.execute_reply.started": "2021-06-29T12:39:48.105815Z"
    }
   },
   "outputs": [],
   "source": [
    "X=train_merge.drop(columns=[i for i in removals])\n",
    "#Y=train_merge['MoA_present']"
   ]
  },
  {
   "cell_type": "code",
   "execution_count": 19,
   "metadata": {
    "execution": {
     "iopub.execute_input": "2021-06-29T12:48:42.021006Z",
     "iopub.status.busy": "2021-06-29T12:48:42.020459Z",
     "iopub.status.idle": "2021-06-29T12:48:42.050010Z",
     "shell.execute_reply": "2021-06-29T12:48:42.048806Z",
     "shell.execute_reply.started": "2021-06-29T12:48:42.020948Z"
    }
   },
   "outputs": [
    {
     "data": {
      "text/html": [
       "<div>\n",
       "<style scoped>\n",
       "    .dataframe tbody tr th:only-of-type {\n",
       "        vertical-align: middle;\n",
       "    }\n",
       "\n",
       "    .dataframe tbody tr th {\n",
       "        vertical-align: top;\n",
       "    }\n",
       "\n",
       "    .dataframe thead th {\n",
       "        text-align: right;\n",
       "    }\n",
       "</style>\n",
       "<table border=\"1\" class=\"dataframe\">\n",
       "  <thead>\n",
       "    <tr style=\"text-align: right;\">\n",
       "      <th></th>\n",
       "      <th>sig_id</th>\n",
       "      <th>g-0</th>\n",
       "      <th>g-1</th>\n",
       "      <th>g-2</th>\n",
       "      <th>g-3</th>\n",
       "      <th>g-4</th>\n",
       "      <th>g-5</th>\n",
       "      <th>g-6</th>\n",
       "      <th>g-7</th>\n",
       "      <th>g-8</th>\n",
       "      <th>...</th>\n",
       "      <th>tubulin_inhibitor</th>\n",
       "      <th>tyrosine_kinase_inhibitor</th>\n",
       "      <th>ubiquitin_specific_protease_inhibitor</th>\n",
       "      <th>vegfr_inhibitor</th>\n",
       "      <th>vitamin_b</th>\n",
       "      <th>vitamin_d_receptor_agonist</th>\n",
       "      <th>wnt_inhibitor</th>\n",
       "      <th>cp_type_le</th>\n",
       "      <th>cp_time_le</th>\n",
       "      <th>cp_dose_le</th>\n",
       "    </tr>\n",
       "  </thead>\n",
       "  <tbody>\n",
       "    <tr>\n",
       "      <th>0</th>\n",
       "      <td>id_000644bb2</td>\n",
       "      <td>1.0620</td>\n",
       "      <td>0.5577</td>\n",
       "      <td>-0.2479</td>\n",
       "      <td>-0.6208</td>\n",
       "      <td>-0.1944</td>\n",
       "      <td>-1.0120</td>\n",
       "      <td>-1.0220</td>\n",
       "      <td>-0.0326</td>\n",
       "      <td>0.5548</td>\n",
       "      <td>...</td>\n",
       "      <td>0</td>\n",
       "      <td>0</td>\n",
       "      <td>0</td>\n",
       "      <td>0</td>\n",
       "      <td>0</td>\n",
       "      <td>0</td>\n",
       "      <td>0</td>\n",
       "      <td>1</td>\n",
       "      <td>0</td>\n",
       "      <td>0</td>\n",
       "    </tr>\n",
       "    <tr>\n",
       "      <th>1</th>\n",
       "      <td>id_000779bfc</td>\n",
       "      <td>0.0743</td>\n",
       "      <td>0.4087</td>\n",
       "      <td>0.2991</td>\n",
       "      <td>0.0604</td>\n",
       "      <td>1.0190</td>\n",
       "      <td>0.5207</td>\n",
       "      <td>0.2341</td>\n",
       "      <td>0.3372</td>\n",
       "      <td>-0.4047</td>\n",
       "      <td>...</td>\n",
       "      <td>0</td>\n",
       "      <td>0</td>\n",
       "      <td>0</td>\n",
       "      <td>0</td>\n",
       "      <td>0</td>\n",
       "      <td>0</td>\n",
       "      <td>0</td>\n",
       "      <td>1</td>\n",
       "      <td>2</td>\n",
       "      <td>0</td>\n",
       "    </tr>\n",
       "    <tr>\n",
       "      <th>2</th>\n",
       "      <td>id_000a6266a</td>\n",
       "      <td>0.6280</td>\n",
       "      <td>0.5817</td>\n",
       "      <td>1.5540</td>\n",
       "      <td>-0.0764</td>\n",
       "      <td>-0.0323</td>\n",
       "      <td>1.2390</td>\n",
       "      <td>0.1715</td>\n",
       "      <td>0.2155</td>\n",
       "      <td>0.0065</td>\n",
       "      <td>...</td>\n",
       "      <td>0</td>\n",
       "      <td>0</td>\n",
       "      <td>0</td>\n",
       "      <td>0</td>\n",
       "      <td>0</td>\n",
       "      <td>0</td>\n",
       "      <td>0</td>\n",
       "      <td>1</td>\n",
       "      <td>1</td>\n",
       "      <td>0</td>\n",
       "    </tr>\n",
       "    <tr>\n",
       "      <th>3</th>\n",
       "      <td>id_0015fd391</td>\n",
       "      <td>-0.5138</td>\n",
       "      <td>-0.2491</td>\n",
       "      <td>-0.2656</td>\n",
       "      <td>0.5288</td>\n",
       "      <td>4.0620</td>\n",
       "      <td>-0.8095</td>\n",
       "      <td>-1.9590</td>\n",
       "      <td>0.1792</td>\n",
       "      <td>-0.1321</td>\n",
       "      <td>...</td>\n",
       "      <td>0</td>\n",
       "      <td>0</td>\n",
       "      <td>0</td>\n",
       "      <td>0</td>\n",
       "      <td>0</td>\n",
       "      <td>0</td>\n",
       "      <td>0</td>\n",
       "      <td>1</td>\n",
       "      <td>1</td>\n",
       "      <td>0</td>\n",
       "    </tr>\n",
       "    <tr>\n",
       "      <th>4</th>\n",
       "      <td>id_001626bd3</td>\n",
       "      <td>-0.3254</td>\n",
       "      <td>-0.4009</td>\n",
       "      <td>0.9700</td>\n",
       "      <td>0.6919</td>\n",
       "      <td>1.4180</td>\n",
       "      <td>-0.8244</td>\n",
       "      <td>-0.2800</td>\n",
       "      <td>-0.1498</td>\n",
       "      <td>-0.8789</td>\n",
       "      <td>...</td>\n",
       "      <td>0</td>\n",
       "      <td>0</td>\n",
       "      <td>0</td>\n",
       "      <td>0</td>\n",
       "      <td>0</td>\n",
       "      <td>0</td>\n",
       "      <td>0</td>\n",
       "      <td>1</td>\n",
       "      <td>2</td>\n",
       "      <td>1</td>\n",
       "    </tr>\n",
       "  </tbody>\n",
       "</table>\n",
       "<p>5 rows × 1082 columns</p>\n",
       "</div>"
      ],
      "text/plain": [
       "         sig_id     g-0     g-1     g-2     g-3     g-4     g-5     g-6  \\\n",
       "0  id_000644bb2  1.0620  0.5577 -0.2479 -0.6208 -0.1944 -1.0120 -1.0220   \n",
       "1  id_000779bfc  0.0743  0.4087  0.2991  0.0604  1.0190  0.5207  0.2341   \n",
       "2  id_000a6266a  0.6280  0.5817  1.5540 -0.0764 -0.0323  1.2390  0.1715   \n",
       "3  id_0015fd391 -0.5138 -0.2491 -0.2656  0.5288  4.0620 -0.8095 -1.9590   \n",
       "4  id_001626bd3 -0.3254 -0.4009  0.9700  0.6919  1.4180 -0.8244 -0.2800   \n",
       "\n",
       "      g-7     g-8  ...  tubulin_inhibitor  tyrosine_kinase_inhibitor  \\\n",
       "0 -0.0326  0.5548  ...                  0                          0   \n",
       "1  0.3372 -0.4047  ...                  0                          0   \n",
       "2  0.2155  0.0065  ...                  0                          0   \n",
       "3  0.1792 -0.1321  ...                  0                          0   \n",
       "4 -0.1498 -0.8789  ...                  0                          0   \n",
       "\n",
       "   ubiquitin_specific_protease_inhibitor  vegfr_inhibitor  vitamin_b  \\\n",
       "0                                      0                0          0   \n",
       "1                                      0                0          0   \n",
       "2                                      0                0          0   \n",
       "3                                      0                0          0   \n",
       "4                                      0                0          0   \n",
       "\n",
       "   vitamin_d_receptor_agonist  wnt_inhibitor  cp_type_le  cp_time_le  \\\n",
       "0                           0              0           1           0   \n",
       "1                           0              0           1           2   \n",
       "2                           0              0           1           1   \n",
       "3                           0              0           1           1   \n",
       "4                           0              0           1           2   \n",
       "\n",
       "   cp_dose_le  \n",
       "0           0  \n",
       "1           0  \n",
       "2           0  \n",
       "3           0  \n",
       "4           1  \n",
       "\n",
       "[5 rows x 1082 columns]"
      ]
     },
     "execution_count": 19,
     "metadata": {},
     "output_type": "execute_result"
    }
   ],
   "source": [
    "X.head()"
   ]
  },
  {
   "cell_type": "code",
   "execution_count": 21,
   "metadata": {
    "execution": {
     "iopub.execute_input": "2021-06-29T12:49:23.468616Z",
     "iopub.status.busy": "2021-06-29T12:49:23.468012Z",
     "iopub.status.idle": "2021-06-29T12:49:23.474097Z",
     "shell.execute_reply": "2021-06-29T12:49:23.473390Z",
     "shell.execute_reply.started": "2021-06-29T12:49:23.468577Z"
    }
   },
   "outputs": [
    {
     "data": {
      "text/plain": [
       "((23814, 1082), (3982, 879))"
      ]
     },
     "execution_count": 21,
     "metadata": {},
     "output_type": "execute_result"
    }
   ],
   "source": [
    "X.shape,test_features.shape"
   ]
  },
  {
   "cell_type": "code",
   "execution_count": 22,
   "metadata": {
    "execution": {
     "iopub.execute_input": "2021-06-29T12:49:34.707518Z",
     "iopub.status.busy": "2021-06-29T12:49:34.706924Z",
     "iopub.status.idle": "2021-06-29T12:49:34.741211Z",
     "shell.execute_reply": "2021-06-29T12:49:34.740026Z",
     "shell.execute_reply.started": "2021-06-29T12:49:34.707480Z"
    }
   },
   "outputs": [],
   "source": [
    "Y=X[target_cols_scored]"
   ]
  },
  {
   "cell_type": "code",
   "execution_count": 23,
   "metadata": {
    "execution": {
     "iopub.execute_input": "2021-06-29T12:49:36.741599Z",
     "iopub.status.busy": "2021-06-29T12:49:36.741145Z",
     "iopub.status.idle": "2021-06-29T12:49:36.748573Z",
     "shell.execute_reply": "2021-06-29T12:49:36.747435Z",
     "shell.execute_reply.started": "2021-06-29T12:49:36.741557Z"
    }
   },
   "outputs": [
    {
     "data": {
      "text/plain": [
       "(23814, 206)"
      ]
     },
     "execution_count": 23,
     "metadata": {},
     "output_type": "execute_result"
    }
   ],
   "source": [
    "Y.shape"
   ]
  },
  {
   "cell_type": "code",
   "execution_count": 24,
   "metadata": {
    "execution": {
     "iopub.execute_input": "2021-06-29T12:49:58.872029Z",
     "iopub.status.busy": "2021-06-29T12:49:58.871575Z",
     "iopub.status.idle": "2021-06-29T12:49:58.877162Z",
     "shell.execute_reply": "2021-06-29T12:49:58.875938Z",
     "shell.execute_reply.started": "2021-06-29T12:49:58.871979Z"
    }
   },
   "outputs": [],
   "source": [
    "import tensorflow as tf\n",
    "from tensorflow.keras.layers import Dense, Activation, Input, BatchNormalization\n"
   ]
  },
  {
   "cell_type": "code",
   "execution_count": null,
   "metadata": {},
   "outputs": [],
   "source": []
  },
  {
   "cell_type": "markdown",
   "metadata": {},
   "source": [
    "<h2>Gene_Features</h2>"
   ]
  },
  {
   "cell_type": "code",
   "execution_count": 25,
   "metadata": {
    "execution": {
     "iopub.execute_input": "2021-06-29T12:50:03.124701Z",
     "iopub.status.busy": "2021-06-29T12:50:03.124280Z",
     "iopub.status.idle": "2021-06-29T12:50:03.278957Z",
     "shell.execute_reply": "2021-06-29T12:50:03.277805Z",
     "shell.execute_reply.started": "2021-06-29T12:50:03.124666Z"
    }
   },
   "outputs": [
    {
     "data": {
      "text/plain": [
       "(23814, 772)"
      ]
     },
     "execution_count": 25,
     "metadata": {},
     "output_type": "execute_result"
    }
   ],
   "source": [
    "X[gene_features].shape"
   ]
  },
  {
   "cell_type": "code",
   "execution_count": 27,
   "metadata": {
    "execution": {
     "iopub.execute_input": "2021-06-29T12:50:35.336479Z",
     "iopub.status.busy": "2021-06-29T12:50:35.335486Z",
     "iopub.status.idle": "2021-06-29T12:50:35.804282Z",
     "shell.execute_reply": "2021-06-29T12:50:35.803154Z",
     "shell.execute_reply.started": "2021-06-29T12:50:35.336416Z"
    }
   },
   "outputs": [],
   "source": [
    "#Encoder part\n",
    "inp=Input(shape=(772,))\n",
    "\n",
    "enc1=Dense(512,activation='relu')(inp)\n",
    "bn=BatchNormalization()(enc1)\n",
    "enc2=Dense(420,activation='relu')(bn)\n",
    "#decoder part\n",
    "dec1=Dense(420,activation='relu')(enc2)\n",
    "bn=BatchNormalization()(dec1)\n",
    "dec2=Dense(512,activation='relu')(bn)\n",
    "bn=BatchNormalization()(dec2)\n",
    "dec3=Dense(772)(enc2)\n",
    "\n",
    "model=tf.keras.Model(inputs=inp,outputs=dec3)\n",
    "\n",
    "\n",
    "model.compile(optimizer='adam', loss='mse')\n"
   ]
  },
  {
   "cell_type": "code",
   "execution_count": 29,
   "metadata": {
    "execution": {
     "iopub.execute_input": "2021-06-29T12:50:52.711280Z",
     "iopub.status.busy": "2021-06-29T12:50:52.710810Z",
     "iopub.status.idle": "2021-06-29T12:55:37.151036Z",
     "shell.execute_reply": "2021-06-29T12:55:37.149621Z",
     "shell.execute_reply.started": "2021-06-29T12:50:52.711239Z"
    }
   },
   "outputs": [
    {
     "name": "stdout",
     "output_type": "stream",
     "text": [
      "Epoch 1/200\n",
      "24/24 [==============================] - 1s 59ms/step - loss: 0.5092\n",
      "Epoch 2/200\n",
      "24/24 [==============================] - 1s 59ms/step - loss: 0.4754\n",
      "Epoch 3/200\n",
      "24/24 [==============================] - 1s 59ms/step - loss: 0.4481\n",
      "Epoch 4/200\n",
      "24/24 [==============================] - 1s 59ms/step - loss: 0.4228\n",
      "Epoch 5/200\n",
      "24/24 [==============================] - 1s 58ms/step - loss: 0.3910\n",
      "Epoch 6/200\n",
      "24/24 [==============================] - 1s 58ms/step - loss: 0.3648\n",
      "Epoch 7/200\n",
      "24/24 [==============================] - 1s 59ms/step - loss: 0.3453\n",
      "Epoch 8/200\n",
      "24/24 [==============================] - 1s 58ms/step - loss: 0.3225\n",
      "Epoch 9/200\n",
      "24/24 [==============================] - 1s 59ms/step - loss: 0.3058\n",
      "Epoch 10/200\n",
      "24/24 [==============================] - 1s 57ms/step - loss: 0.2876\n",
      "Epoch 11/200\n",
      "24/24 [==============================] - 1s 58ms/step - loss: 0.2759\n",
      "Epoch 12/200\n",
      "24/24 [==============================] - 1s 57ms/step - loss: 0.2583\n",
      "Epoch 13/200\n",
      "24/24 [==============================] - 1s 58ms/step - loss: 0.2536\n",
      "Epoch 14/200\n",
      "24/24 [==============================] - 1s 59ms/step - loss: 0.2454\n",
      "Epoch 15/200\n",
      "24/24 [==============================] - 1s 60ms/step - loss: 0.2400\n",
      "Epoch 16/200\n",
      "24/24 [==============================] - 1s 58ms/step - loss: 0.2358\n",
      "Epoch 17/200\n",
      "24/24 [==============================] - 1s 59ms/step - loss: 0.2317\n",
      "Epoch 18/200\n",
      "24/24 [==============================] - 1s 58ms/step - loss: 0.2188\n",
      "Epoch 19/200\n",
      "24/24 [==============================] - 2s 70ms/step - loss: 0.2141\n",
      "Epoch 20/200\n",
      "24/24 [==============================] - 1s 59ms/step - loss: 0.2109\n",
      "Epoch 21/200\n",
      "24/24 [==============================] - 1s 58ms/step - loss: 0.2050\n",
      "Epoch 22/200\n",
      "24/24 [==============================] - 1s 57ms/step - loss: 0.2025\n",
      "Epoch 23/200\n",
      "24/24 [==============================] - 1s 61ms/step - loss: 0.2021\n",
      "Epoch 24/200\n",
      "24/24 [==============================] - 1s 58ms/step - loss: 0.2015\n",
      "Epoch 25/200\n",
      "24/24 [==============================] - 1s 59ms/step - loss: 0.1960\n",
      "Epoch 26/200\n",
      "24/24 [==============================] - 1s 58ms/step - loss: 0.1866\n",
      "Epoch 27/200\n",
      "24/24 [==============================] - 1s 58ms/step - loss: 0.1846\n",
      "Epoch 28/200\n",
      "24/24 [==============================] - 1s 58ms/step - loss: 0.1859\n",
      "Epoch 29/200\n",
      "24/24 [==============================] - 1s 58ms/step - loss: 0.1809\n",
      "Epoch 30/200\n",
      "24/24 [==============================] - 1s 58ms/step - loss: 0.1867\n",
      "Epoch 31/200\n",
      "24/24 [==============================] - 1s 60ms/step - loss: 0.1799\n",
      "Epoch 32/200\n",
      "24/24 [==============================] - 1s 59ms/step - loss: 0.1764\n",
      "Epoch 33/200\n",
      "24/24 [==============================] - 1s 58ms/step - loss: 0.1825\n",
      "Epoch 34/200\n",
      "24/24 [==============================] - 1s 58ms/step - loss: 0.1816\n",
      "Epoch 35/200\n",
      "24/24 [==============================] - 1s 57ms/step - loss: 0.1788\n",
      "Epoch 36/200\n",
      "24/24 [==============================] - 1s 59ms/step - loss: 0.1668\n",
      "Epoch 37/200\n",
      "24/24 [==============================] - 1s 58ms/step - loss: 0.1712\n",
      "Epoch 38/200\n",
      "24/24 [==============================] - 1s 58ms/step - loss: 0.1673\n",
      "Epoch 39/200\n",
      "24/24 [==============================] - 1s 60ms/step - loss: 0.1716\n",
      "Epoch 40/200\n",
      "24/24 [==============================] - 1s 57ms/step - loss: 0.1665\n",
      "Epoch 41/200\n",
      "24/24 [==============================] - 1s 58ms/step - loss: 0.1627\n",
      "Epoch 42/200\n",
      "24/24 [==============================] - 2s 66ms/step - loss: 0.1613\n",
      "Epoch 43/200\n",
      "24/24 [==============================] - 2s 62ms/step - loss: 0.1667\n",
      "Epoch 44/200\n",
      "24/24 [==============================] - 1s 58ms/step - loss: 0.1631\n",
      "Epoch 45/200\n",
      "24/24 [==============================] - 1s 58ms/step - loss: 0.1624\n",
      "Epoch 46/200\n",
      "24/24 [==============================] - 1s 59ms/step - loss: 0.1587\n",
      "Epoch 47/200\n",
      "24/24 [==============================] - 1s 58ms/step - loss: 0.1582\n",
      "Epoch 48/200\n",
      "24/24 [==============================] - 1s 58ms/step - loss: 0.1599\n",
      "Epoch 49/200\n",
      "24/24 [==============================] - 1s 57ms/step - loss: 0.1571\n",
      "Epoch 50/200\n",
      "24/24 [==============================] - 1s 58ms/step - loss: 0.1547\n",
      "Epoch 51/200\n",
      "24/24 [==============================] - 1s 58ms/step - loss: 0.1582\n",
      "Epoch 52/200\n",
      "24/24 [==============================] - 1s 58ms/step - loss: 0.1531\n",
      "Epoch 53/200\n",
      "24/24 [==============================] - 1s 58ms/step - loss: 0.1512\n",
      "Epoch 54/200\n",
      "24/24 [==============================] - 1s 60ms/step - loss: 0.1525\n",
      "Epoch 55/200\n",
      "24/24 [==============================] - 1s 58ms/step - loss: 0.1510\n",
      "Epoch 56/200\n",
      "24/24 [==============================] - 1s 58ms/step - loss: 0.1609\n",
      "Epoch 57/200\n",
      "24/24 [==============================] - 1s 58ms/step - loss: 0.1532\n",
      "Epoch 58/200\n",
      "24/24 [==============================] - 1s 58ms/step - loss: 0.1567\n",
      "Epoch 59/200\n",
      "24/24 [==============================] - 1s 58ms/step - loss: 0.1540\n",
      "Epoch 60/200\n",
      "24/24 [==============================] - 1s 59ms/step - loss: 0.1523\n",
      "Epoch 61/200\n",
      "24/24 [==============================] - 1s 59ms/step - loss: 0.1481\n",
      "Epoch 62/200\n",
      "24/24 [==============================] - 1s 60ms/step - loss: 0.1475\n",
      "Epoch 63/200\n",
      "24/24 [==============================] - 1s 58ms/step - loss: 0.1547\n",
      "Epoch 64/200\n",
      "24/24 [==============================] - 1s 59ms/step - loss: 0.1473\n",
      "Epoch 65/200\n",
      "24/24 [==============================] - 2s 68ms/step - loss: 0.1467\n",
      "Epoch 66/200\n",
      "24/24 [==============================] - 1s 61ms/step - loss: 0.1441\n",
      "Epoch 67/200\n",
      "24/24 [==============================] - 1s 60ms/step - loss: 0.1460\n",
      "Epoch 68/200\n",
      "24/24 [==============================] - 1s 59ms/step - loss: 0.1460\n",
      "Epoch 69/200\n",
      "24/24 [==============================] - 1s 59ms/step - loss: 0.1466\n",
      "Epoch 70/200\n",
      "24/24 [==============================] - 1s 61ms/step - loss: 0.1493\n",
      "Epoch 71/200\n",
      "24/24 [==============================] - 1s 58ms/step - loss: 0.1466\n",
      "Epoch 72/200\n",
      "24/24 [==============================] - 1s 59ms/step - loss: 0.1480\n",
      "Epoch 73/200\n",
      "24/24 [==============================] - 1s 59ms/step - loss: 0.1505\n",
      "Epoch 74/200\n",
      "24/24 [==============================] - 1s 59ms/step - loss: 0.1458\n",
      "Epoch 75/200\n",
      "24/24 [==============================] - 1s 59ms/step - loss: 0.1446\n",
      "Epoch 76/200\n",
      "24/24 [==============================] - 1s 59ms/step - loss: 0.1472\n",
      "Epoch 77/200\n",
      "24/24 [==============================] - 1s 61ms/step - loss: 0.1557\n",
      "Epoch 78/200\n",
      "24/24 [==============================] - 1s 59ms/step - loss: 0.1433\n",
      "Epoch 79/200\n",
      "24/24 [==============================] - 1s 58ms/step - loss: 0.1456\n",
      "Epoch 80/200\n",
      "24/24 [==============================] - 1s 58ms/step - loss: 0.1448\n",
      "Epoch 81/200\n",
      "24/24 [==============================] - 1s 58ms/step - loss: 0.1475\n",
      "Epoch 82/200\n",
      "24/24 [==============================] - 1s 59ms/step - loss: 0.1444\n",
      "Epoch 83/200\n",
      "24/24 [==============================] - 1s 58ms/step - loss: 0.1429\n",
      "Epoch 84/200\n",
      "24/24 [==============================] - 1s 58ms/step - loss: 0.1426\n",
      "Epoch 85/200\n",
      "24/24 [==============================] - 1s 59ms/step - loss: 0.1417\n",
      "Epoch 86/200\n",
      "24/24 [==============================] - 1s 59ms/step - loss: 0.1430\n",
      "Epoch 87/200\n",
      "24/24 [==============================] - 1s 58ms/step - loss: 0.1435\n",
      "Epoch 88/200\n",
      "24/24 [==============================] - 2s 68ms/step - loss: 0.1444\n",
      "Epoch 89/200\n",
      "24/24 [==============================] - 1s 60ms/step - loss: 0.1434\n",
      "Epoch 90/200\n",
      "24/24 [==============================] - 1s 57ms/step - loss: 0.1404\n",
      "Epoch 91/200\n",
      "24/24 [==============================] - 1s 57ms/step - loss: 0.1398\n",
      "Epoch 92/200\n",
      "24/24 [==============================] - 1s 57ms/step - loss: 0.1390\n",
      "Epoch 93/200\n",
      "24/24 [==============================] - 1s 59ms/step - loss: 0.1476\n",
      "Epoch 94/200\n",
      "24/24 [==============================] - 1s 57ms/step - loss: 0.1514\n",
      "Epoch 95/200\n",
      "24/24 [==============================] - 1s 57ms/step - loss: 0.1440\n",
      "Epoch 96/200\n",
      "24/24 [==============================] - 1s 59ms/step - loss: 0.1437\n",
      "Epoch 97/200\n",
      "24/24 [==============================] - 1s 57ms/step - loss: 0.1406\n",
      "Epoch 98/200\n",
      "24/24 [==============================] - 1s 58ms/step - loss: 0.1390\n",
      "Epoch 99/200\n",
      "24/24 [==============================] - 1s 57ms/step - loss: 0.1374\n",
      "Epoch 100/200\n",
      "24/24 [==============================] - 1s 58ms/step - loss: 0.1379\n",
      "Epoch 101/200\n",
      "24/24 [==============================] - 1s 60ms/step - loss: 0.1413\n",
      "Epoch 102/200\n",
      "24/24 [==============================] - 1s 57ms/step - loss: 0.1424\n",
      "Epoch 103/200\n",
      "24/24 [==============================] - 1s 58ms/step - loss: 0.1383\n",
      "Epoch 104/200\n",
      "24/24 [==============================] - 1s 58ms/step - loss: 0.1374\n",
      "Epoch 105/200\n",
      "24/24 [==============================] - 1s 57ms/step - loss: 0.1359\n",
      "Epoch 106/200\n",
      "24/24 [==============================] - 1s 58ms/step - loss: 0.1359\n",
      "Epoch 107/200\n",
      "24/24 [==============================] - 1s 58ms/step - loss: 0.1400\n",
      "Epoch 108/200\n",
      "24/24 [==============================] - 1s 58ms/step - loss: 0.1369\n",
      "Epoch 109/200\n",
      "24/24 [==============================] - 1s 60ms/step - loss: 0.1365\n",
      "Epoch 110/200\n",
      "24/24 [==============================] - 1s 59ms/step - loss: 0.1395\n",
      "Epoch 111/200\n",
      "24/24 [==============================] - 2s 63ms/step - loss: 0.1420\n",
      "Epoch 112/200\n",
      "24/24 [==============================] - 2s 65ms/step - loss: 0.1414\n",
      "Epoch 113/200\n",
      "24/24 [==============================] - 1s 59ms/step - loss: 0.1474\n",
      "Epoch 114/200\n",
      "24/24 [==============================] - 1s 57ms/step - loss: 0.1381\n",
      "Epoch 115/200\n",
      "24/24 [==============================] - 1s 58ms/step - loss: 0.1366\n",
      "Epoch 116/200\n",
      "24/24 [==============================] - 1s 61ms/step - loss: 0.1411\n",
      "Epoch 117/200\n",
      "24/24 [==============================] - 1s 60ms/step - loss: 0.1396\n",
      "Epoch 118/200\n",
      "24/24 [==============================] - 1s 59ms/step - loss: 0.1361\n",
      "Epoch 119/200\n",
      "24/24 [==============================] - 1s 59ms/step - loss: 0.1383\n",
      "Epoch 120/200\n",
      "24/24 [==============================] - 1s 59ms/step - loss: 0.1440\n",
      "Epoch 121/200\n",
      "24/24 [==============================] - 1s 59ms/step - loss: 0.1383\n",
      "Epoch 122/200\n",
      "24/24 [==============================] - 1s 58ms/step - loss: 0.1350\n",
      "Epoch 123/200\n",
      "24/24 [==============================] - 1s 59ms/step - loss: 0.1351\n",
      "Epoch 124/200\n",
      "24/24 [==============================] - 1s 61ms/step - loss: 0.1351\n",
      "Epoch 125/200\n",
      "24/24 [==============================] - 1s 59ms/step - loss: 0.1456\n",
      "Epoch 126/200\n",
      "24/24 [==============================] - 1s 59ms/step - loss: 0.1360\n",
      "Epoch 127/200\n",
      "24/24 [==============================] - 1s 59ms/step - loss: 0.1406\n",
      "Epoch 128/200\n",
      "24/24 [==============================] - 1s 59ms/step - loss: 0.1426\n",
      "Epoch 129/200\n",
      "24/24 [==============================] - 1s 58ms/step - loss: 0.1365\n",
      "Epoch 130/200\n",
      "24/24 [==============================] - 1s 59ms/step - loss: 0.1357\n",
      "Epoch 131/200\n",
      "24/24 [==============================] - 1s 59ms/step - loss: 0.1345\n",
      "Epoch 132/200\n",
      "24/24 [==============================] - 1s 61ms/step - loss: 0.1418\n",
      "Epoch 133/200\n",
      "24/24 [==============================] - 1s 58ms/step - loss: 0.1392\n",
      "Epoch 134/200\n",
      "24/24 [==============================] - 2s 68ms/step - loss: 0.1348\n",
      "Epoch 135/200\n",
      "24/24 [==============================] - 1s 62ms/step - loss: 0.1363\n",
      "Epoch 136/200\n",
      "24/24 [==============================] - 1s 59ms/step - loss: 0.1331\n",
      "Epoch 137/200\n",
      "24/24 [==============================] - 1s 59ms/step - loss: 0.1345\n",
      "Epoch 138/200\n",
      "24/24 [==============================] - 1s 59ms/step - loss: 0.1391\n",
      "Epoch 139/200\n",
      "24/24 [==============================] - 1s 60ms/step - loss: 0.1405\n",
      "Epoch 140/200\n",
      "24/24 [==============================] - 1s 58ms/step - loss: 0.1349\n",
      "Epoch 141/200\n",
      "24/24 [==============================] - 1s 59ms/step - loss: 0.1346\n",
      "Epoch 142/200\n",
      "24/24 [==============================] - 1s 59ms/step - loss: 0.1333\n",
      "Epoch 143/200\n",
      "24/24 [==============================] - 1s 58ms/step - loss: 0.1314\n",
      "Epoch 144/200\n",
      "24/24 [==============================] - 1s 58ms/step - loss: 0.1361\n",
      "Epoch 145/200\n",
      "24/24 [==============================] - 1s 57ms/step - loss: 0.1338\n",
      "Epoch 146/200\n",
      "24/24 [==============================] - 1s 59ms/step - loss: 0.1378\n",
      "Epoch 147/200\n",
      "24/24 [==============================] - 1s 60ms/step - loss: 0.1357\n",
      "Epoch 148/200\n",
      "24/24 [==============================] - 1s 58ms/step - loss: 0.1368\n",
      "Epoch 149/200\n",
      "24/24 [==============================] - 1s 58ms/step - loss: 0.1340\n",
      "Epoch 150/200\n",
      "24/24 [==============================] - 1s 58ms/step - loss: 0.1330\n",
      "Epoch 151/200\n",
      "24/24 [==============================] - 1s 58ms/step - loss: 0.1319\n",
      "Epoch 152/200\n",
      "24/24 [==============================] - 1s 58ms/step - loss: 0.1387\n",
      "Epoch 153/200\n",
      "24/24 [==============================] - 1s 59ms/step - loss: 0.1348\n",
      "Epoch 154/200\n",
      "24/24 [==============================] - 1s 58ms/step - loss: 0.1324\n",
      "Epoch 155/200\n",
      "24/24 [==============================] - 1s 59ms/step - loss: 0.1342\n",
      "Epoch 156/200\n",
      "24/24 [==============================] - 1s 58ms/step - loss: 0.1391\n",
      "Epoch 157/200\n",
      "24/24 [==============================] - 1s 59ms/step - loss: 0.1333\n",
      "Epoch 158/200\n",
      "24/24 [==============================] - 2s 70ms/step - loss: 0.1357\n",
      "Epoch 159/200\n",
      "24/24 [==============================] - 1s 61ms/step - loss: 0.1321\n",
      "Epoch 160/200\n",
      "24/24 [==============================] - 1s 59ms/step - loss: 0.1335\n",
      "Epoch 161/200\n",
      "24/24 [==============================] - 1s 58ms/step - loss: 0.1361\n",
      "Epoch 162/200\n",
      "24/24 [==============================] - 1s 60ms/step - loss: 0.1322\n",
      "Epoch 163/200\n",
      "24/24 [==============================] - 1s 59ms/step - loss: 0.1414\n",
      "Epoch 164/200\n",
      "24/24 [==============================] - 1s 59ms/step - loss: 0.1353\n",
      "Epoch 165/200\n",
      "24/24 [==============================] - 1s 59ms/step - loss: 0.1331\n",
      "Epoch 166/200\n",
      "24/24 [==============================] - 1s 59ms/step - loss: 0.1357\n",
      "Epoch 167/200\n",
      "24/24 [==============================] - 1s 59ms/step - loss: 0.1373\n",
      "Epoch 168/200\n",
      "24/24 [==============================] - 1s 58ms/step - loss: 0.1338\n",
      "Epoch 169/200\n",
      "24/24 [==============================] - 1s 59ms/step - loss: 0.1314\n",
      "Epoch 170/200\n",
      "24/24 [==============================] - 1s 60ms/step - loss: 0.1316\n",
      "Epoch 171/200\n",
      "24/24 [==============================] - 1s 58ms/step - loss: 0.1344\n",
      "Epoch 172/200\n",
      "24/24 [==============================] - 1s 58ms/step - loss: 0.1343\n",
      "Epoch 173/200\n",
      "24/24 [==============================] - 1s 58ms/step - loss: 0.1319\n",
      "Epoch 174/200\n",
      "24/24 [==============================] - 1s 58ms/step - loss: 0.1327\n",
      "Epoch 175/200\n",
      "24/24 [==============================] - 1s 59ms/step - loss: 0.1352\n",
      "Epoch 176/200\n",
      "24/24 [==============================] - 1s 58ms/step - loss: 0.1342\n",
      "Epoch 177/200\n",
      "24/24 [==============================] - 1s 58ms/step - loss: 0.1334\n",
      "Epoch 178/200\n",
      "24/24 [==============================] - 1s 60ms/step - loss: 0.1317\n",
      "Epoch 179/200\n",
      "24/24 [==============================] - 1s 59ms/step - loss: 0.1306\n",
      "Epoch 180/200\n",
      "24/24 [==============================] - 1s 60ms/step - loss: 0.1355\n",
      "Epoch 181/200\n",
      "24/24 [==============================] - 2s 71ms/step - loss: 0.1330\n",
      "Epoch 182/200\n",
      "24/24 [==============================] - 1s 58ms/step - loss: 0.1371\n",
      "Epoch 183/200\n",
      "24/24 [==============================] - 1s 58ms/step - loss: 0.1347\n",
      "Epoch 184/200\n",
      "24/24 [==============================] - 1s 58ms/step - loss: 0.1302\n",
      "Epoch 185/200\n",
      "24/24 [==============================] - 1s 57ms/step - loss: 0.1329\n",
      "Epoch 186/200\n",
      "24/24 [==============================] - 1s 61ms/step - loss: 0.1340\n",
      "Epoch 187/200\n",
      "24/24 [==============================] - 1s 59ms/step - loss: 0.1312\n",
      "Epoch 188/200\n",
      "24/24 [==============================] - 1s 58ms/step - loss: 0.1328\n",
      "Epoch 189/200\n",
      "24/24 [==============================] - 1s 58ms/step - loss: 0.1318\n",
      "Epoch 190/200\n",
      "24/24 [==============================] - 1s 58ms/step - loss: 0.1332\n",
      "Epoch 191/200\n",
      "24/24 [==============================] - 1s 60ms/step - loss: 0.1327\n",
      "Epoch 192/200\n",
      "24/24 [==============================] - 1s 58ms/step - loss: 0.1324\n",
      "Epoch 193/200\n",
      "24/24 [==============================] - 1s 60ms/step - loss: 0.1303\n",
      "Epoch 194/200\n",
      "24/24 [==============================] - 1s 59ms/step - loss: 0.1316\n",
      "Epoch 200/200\n",
      "24/24 [==============================] - 1s 60ms/step - loss: 0.1299\n"
     ]
    },
    {
     "data": {
      "text/plain": [
       "<tensorflow.python.keras.callbacks.History at 0x7f879e7db710>"
      ]
     },
     "execution_count": 29,
     "metadata": {},
     "output_type": "execute_result"
    }
   ],
   "source": [
    "model.fit(X[gene_features],X[gene_features],batch_size=1000,epochs=200)"
   ]
  },
  {
   "cell_type": "code",
   "execution_count": 31,
   "metadata": {
    "execution": {
     "iopub.execute_input": "2021-06-29T12:55:55.076718Z",
     "iopub.status.busy": "2021-06-29T12:55:55.076176Z",
     "iopub.status.idle": "2021-06-29T12:55:55.105747Z",
     "shell.execute_reply": "2021-06-29T12:55:55.104518Z",
     "shell.execute_reply.started": "2021-06-29T12:55:55.076681Z"
    }
   },
   "outputs": [],
   "source": [
    "#Note we need to just take the output of the encoded part as it has the summarizes all the 772 gene features\n",
    "encoder =tf.keras. Model(inputs=inp, outputs=enc2)\n",
    "#save the encoder to a file\n",
    "encoder.save('encoder1.h5')"
   ]
  },
  {
   "cell_type": "markdown",
   "metadata": {},
   "source": [
    "<h2> Cell_Features</h2>"
   ]
  },
  {
   "cell_type": "code",
   "execution_count": 33,
   "metadata": {
    "execution": {
     "iopub.execute_input": "2021-06-29T12:56:03.700048Z",
     "iopub.status.busy": "2021-06-29T12:56:03.699603Z",
     "iopub.status.idle": "2021-06-29T12:56:03.718835Z",
     "shell.execute_reply": "2021-06-29T12:56:03.717667Z",
     "shell.execute_reply.started": "2021-06-29T12:56:03.700008Z"
    }
   },
   "outputs": [
    {
     "data": {
      "text/plain": [
       "(23814, 100)"
      ]
     },
     "execution_count": 33,
     "metadata": {},
     "output_type": "execute_result"
    }
   ],
   "source": [
    "X[cell_features].shape"
   ]
  },
  {
   "cell_type": "code",
   "execution_count": 35,
   "metadata": {
    "execution": {
     "iopub.execute_input": "2021-06-29T12:56:30.768484Z",
     "iopub.status.busy": "2021-06-29T12:56:30.767720Z",
     "iopub.status.idle": "2021-06-29T12:56:30.893173Z",
     "shell.execute_reply": "2021-06-29T12:56:30.892064Z",
     "shell.execute_reply.started": "2021-06-29T12:56:30.768419Z"
    }
   },
   "outputs": [],
   "source": [
    "#Encoder part\n",
    "inp=Input(shape=(100,))\n",
    "\n",
    "enc1=Dense(90,activation='relu')(inp)\n",
    "bn=BatchNormalization()(enc1)\n",
    "enc2=Dense(75,activation='relu')(bn)\n",
    "#decoder part\n",
    "dec1=Dense(75,activation='relu')(enc2)\n",
    "bn=BatchNormalization()(dec1)\n",
    "dec2=Dense(90,activation='relu')(bn)\n",
    "bn=BatchNormalization()(dec2)\n",
    "dec3=Dense(100)(enc2)\n",
    "\n",
    "model=tf.keras.Model(inputs=inp,outputs=dec3)\n",
    "\n",
    "\n",
    "model.compile(optimizer='adam', loss='mse')"
   ]
  },
  {
   "cell_type": "code",
   "execution_count": 36,
   "metadata": {
    "execution": {
     "iopub.execute_input": "2021-06-29T12:56:32.806467Z",
     "iopub.status.busy": "2021-06-29T12:56:32.805988Z",
     "iopub.status.idle": "2021-06-29T12:57:12.132740Z",
     "shell.execute_reply": "2021-06-29T12:57:12.131914Z",
     "shell.execute_reply.started": "2021-06-29T12:56:32.806427Z"
    }
   },
   "outputs": [
    {
     "name": "stdout",
     "output_type": "stream",
     "text": [
      "Epoch 1/200\n",
      "24/24 [==============================] - 1s 7ms/step - loss: 3.4944\n",
      "Epoch 2/200\n",
      "24/24 [==============================] - 0s 7ms/step - loss: 0.9449\n",
      "Epoch 3/200\n",
      "24/24 [==============================] - 0s 8ms/step - loss: 0.5822\n",
      "Epoch 4/200\n",
      "24/24 [==============================] - 0s 8ms/step - loss: 0.5367\n",
      "Epoch 5/200\n",
      "24/24 [==============================] - 0s 8ms/step - loss: 0.5156\n",
      "Epoch 6/200\n",
      "24/24 [==============================] - 0s 8ms/step - loss: 0.4988\n",
      "Epoch 7/200\n",
      "24/24 [==============================] - 0s 8ms/step - loss: 0.4817\n",
      "Epoch 8/200\n",
      "24/24 [==============================] - 0s 8ms/step - loss: 0.4551\n",
      "Epoch 9/200\n",
      "24/24 [==============================] - 0s 8ms/step - loss: 0.4419\n",
      "Epoch 10/200\n",
      "24/24 [==============================] - 0s 8ms/step - loss: 0.4339\n",
      "Epoch 11/200\n",
      "24/24 [==============================] - 0s 8ms/step - loss: 0.4195\n",
      "Epoch 12/200\n",
      "24/24 [==============================] - 0s 8ms/step - loss: 0.4080\n",
      "Epoch 13/200\n",
      "24/24 [==============================] - 0s 8ms/step - loss: 0.3972\n",
      "Epoch 14/200\n",
      "24/24 [==============================] - 0s 8ms/step - loss: 0.3999\n",
      "Epoch 15/200\n",
      "24/24 [==============================] - 0s 8ms/step - loss: 0.3809\n",
      "Epoch 16/200\n",
      "24/24 [==============================] - 0s 8ms/step - loss: 0.3619\n",
      "Epoch 17/200\n",
      "24/24 [==============================] - 0s 8ms/step - loss: 0.3697\n",
      "Epoch 18/200\n",
      "24/24 [==============================] - 0s 8ms/step - loss: 0.3647\n",
      "Epoch 19/200\n",
      "24/24 [==============================] - 0s 8ms/step - loss: 0.3440\n",
      "Epoch 20/200\n",
      "24/24 [==============================] - 0s 8ms/step - loss: 0.3583\n",
      "Epoch 21/200\n",
      "24/24 [==============================] - 0s 8ms/step - loss: 0.3360\n",
      "Epoch 22/200\n",
      "24/24 [==============================] - 0s 8ms/step - loss: 0.3293\n",
      "Epoch 23/200\n",
      "24/24 [==============================] - 0s 8ms/step - loss: 0.3218\n",
      "Epoch 24/200\n",
      "24/24 [==============================] - 0s 8ms/step - loss: 0.3225\n",
      "Epoch 25/200\n",
      "24/24 [==============================] - 0s 8ms/step - loss: 0.3214\n",
      "Epoch 26/200\n",
      "24/24 [==============================] - 0s 8ms/step - loss: 0.3166\n",
      "Epoch 27/200\n",
      "24/24 [==============================] - 0s 8ms/step - loss: 0.3041\n",
      "Epoch 28/200\n",
      "24/24 [==============================] - 0s 8ms/step - loss: 0.2930\n",
      "Epoch 29/200\n",
      "24/24 [==============================] - 0s 8ms/step - loss: 0.2935\n",
      "Epoch 30/200\n",
      "24/24 [==============================] - 0s 8ms/step - loss: 0.2932\n",
      "Epoch 31/200\n",
      "24/24 [==============================] - 0s 8ms/step - loss: 0.2899\n",
      "Epoch 32/200\n",
      "24/24 [==============================] - 0s 8ms/step - loss: 0.2851\n",
      "Epoch 33/200\n",
      "24/24 [==============================] - 0s 8ms/step - loss: 0.2722\n",
      "Epoch 34/200\n",
      "24/24 [==============================] - 0s 8ms/step - loss: 0.2775\n",
      "Epoch 35/200\n",
      "24/24 [==============================] - 0s 8ms/step - loss: 0.2625\n",
      "Epoch 36/200\n",
      "24/24 [==============================] - 0s 7ms/step - loss: 0.2617\n",
      "Epoch 37/200\n",
      "24/24 [==============================] - 0s 8ms/step - loss: 0.2541\n",
      "Epoch 38/200\n",
      "24/24 [==============================] - 0s 8ms/step - loss: 0.2475\n",
      "Epoch 39/200\n",
      "24/24 [==============================] - 0s 8ms/step - loss: 0.2458\n",
      "Epoch 40/200\n",
      "24/24 [==============================] - 0s 8ms/step - loss: 0.2434\n",
      "Epoch 41/200\n",
      "24/24 [==============================] - 0s 8ms/step - loss: 0.2396\n",
      "Epoch 42/200\n",
      "24/24 [==============================] - 0s 7ms/step - loss: 0.2398\n",
      "Epoch 43/200\n",
      "24/24 [==============================] - 0s 7ms/step - loss: 0.2379\n",
      "Epoch 44/200\n",
      "24/24 [==============================] - 0s 7ms/step - loss: 0.2216\n",
      "Epoch 45/200\n",
      "24/24 [==============================] - 0s 8ms/step - loss: 0.2238\n",
      "Epoch 46/200\n",
      "24/24 [==============================] - 0s 8ms/step - loss: 0.2080\n",
      "Epoch 47/200\n",
      "24/24 [==============================] - 0s 8ms/step - loss: 0.2073\n",
      "Epoch 48/200\n",
      "24/24 [==============================] - 0s 7ms/step - loss: 0.2238\n",
      "Epoch 49/200\n",
      "24/24 [==============================] - 0s 8ms/step - loss: 0.2056\n",
      "Epoch 50/200\n",
      "24/24 [==============================] - 0s 7ms/step - loss: 0.1961\n",
      "Epoch 51/200\n",
      "24/24 [==============================] - 0s 8ms/step - loss: 0.2001\n",
      "Epoch 52/200\n",
      "24/24 [==============================] - 0s 8ms/step - loss: 0.1933\n",
      "Epoch 53/200\n",
      "24/24 [==============================] - 0s 8ms/step - loss: 0.1925\n",
      "Epoch 54/200\n",
      "24/24 [==============================] - 0s 8ms/step - loss: 0.1911\n",
      "Epoch 55/200\n",
      "24/24 [==============================] - 0s 8ms/step - loss: 0.2264\n",
      "Epoch 56/200\n",
      "24/24 [==============================] - 0s 8ms/step - loss: 0.1837\n",
      "Epoch 57/200\n",
      "24/24 [==============================] - 0s 10ms/step - loss: 0.1921\n",
      "Epoch 58/200\n",
      "24/24 [==============================] - 0s 10ms/step - loss: 0.1918\n",
      "Epoch 59/200\n",
      "24/24 [==============================] - 0s 10ms/step - loss: 0.1846\n",
      "Epoch 60/200\n",
      "24/24 [==============================] - 0s 9ms/step - loss: 0.1756\n",
      "Epoch 61/200\n",
      "24/24 [==============================] - 0s 9ms/step - loss: 0.1669\n",
      "Epoch 62/200\n",
      "24/24 [==============================] - 0s 9ms/step - loss: 0.1737\n",
      "Epoch 63/200\n",
      "24/24 [==============================] - 0s 8ms/step - loss: 0.1660\n",
      "Epoch 64/200\n",
      "24/24 [==============================] - 0s 8ms/step - loss: 0.1711\n",
      "Epoch 65/200\n",
      "24/24 [==============================] - 0s 8ms/step - loss: 0.1927\n",
      "Epoch 66/200\n",
      "24/24 [==============================] - 0s 8ms/step - loss: 0.1660\n",
      "Epoch 67/200\n",
      "24/24 [==============================] - 0s 8ms/step - loss: 0.1608\n",
      "Epoch 68/200\n",
      "24/24 [==============================] - 0s 8ms/step - loss: 0.1815\n",
      "Epoch 69/200\n",
      "24/24 [==============================] - 0s 8ms/step - loss: 0.1785\n",
      "Epoch 70/200\n",
      "24/24 [==============================] - 0s 8ms/step - loss: 0.1579\n",
      "Epoch 71/200\n",
      "24/24 [==============================] - 0s 8ms/step - loss: 0.1505\n",
      "Epoch 72/200\n",
      "24/24 [==============================] - 0s 8ms/step - loss: 0.1654\n",
      "Epoch 73/200\n",
      "24/24 [==============================] - 0s 8ms/step - loss: 0.1772\n",
      "Epoch 74/200\n",
      "24/24 [==============================] - 0s 8ms/step - loss: 0.1589\n",
      "Epoch 75/200\n",
      "24/24 [==============================] - 0s 8ms/step - loss: 0.1442\n",
      "Epoch 76/200\n",
      "24/24 [==============================] - 0s 8ms/step - loss: 0.1553\n",
      "Epoch 77/200\n",
      "24/24 [==============================] - 0s 8ms/step - loss: 0.1637\n",
      "Epoch 78/200\n",
      "24/24 [==============================] - 0s 7ms/step - loss: 0.1529\n",
      "Epoch 79/200\n",
      "24/24 [==============================] - 0s 8ms/step - loss: 0.1457\n",
      "Epoch 80/200\n",
      "24/24 [==============================] - 0s 8ms/step - loss: 0.1406\n",
      "Epoch 81/200\n",
      "24/24 [==============================] - 0s 8ms/step - loss: 0.1404\n",
      "Epoch 82/200\n",
      "24/24 [==============================] - 0s 8ms/step - loss: 0.1435\n",
      "Epoch 83/200\n",
      "24/24 [==============================] - 0s 8ms/step - loss: 0.1567\n",
      "Epoch 84/200\n",
      "24/24 [==============================] - 0s 8ms/step - loss: 0.1474\n",
      "Epoch 85/200\n",
      "24/24 [==============================] - 0s 8ms/step - loss: 0.1525\n",
      "Epoch 86/200\n",
      "24/24 [==============================] - 0s 8ms/step - loss: 0.1539\n",
      "Epoch 87/200\n",
      "24/24 [==============================] - 0s 8ms/step - loss: 0.1505\n",
      "Epoch 88/200\n",
      "24/24 [==============================] - 0s 8ms/step - loss: 0.1557\n",
      "Epoch 89/200\n",
      "24/24 [==============================] - 0s 8ms/step - loss: 0.1528\n",
      "Epoch 90/200\n",
      "24/24 [==============================] - 0s 8ms/step - loss: 0.1359\n",
      "Epoch 91/200\n",
      "24/24 [==============================] - 0s 8ms/step - loss: 0.1278\n",
      "Epoch 92/200\n",
      "24/24 [==============================] - 0s 8ms/step - loss: 0.1428\n",
      "Epoch 93/200\n",
      "24/24 [==============================] - 0s 8ms/step - loss: 0.1445\n",
      "Epoch 94/200\n",
      "24/24 [==============================] - 0s 8ms/step - loss: 0.1421\n",
      "Epoch 95/200\n",
      "24/24 [==============================] - 0s 8ms/step - loss: 0.1287\n",
      "Epoch 96/200\n",
      "24/24 [==============================] - 0s 8ms/step - loss: 0.1463\n",
      "Epoch 97/200\n",
      "24/24 [==============================] - 0s 8ms/step - loss: 0.1422\n",
      "Epoch 98/200\n",
      "24/24 [==============================] - 0s 8ms/step - loss: 0.1246\n",
      "Epoch 99/200\n",
      "24/24 [==============================] - 0s 8ms/step - loss: 0.1338\n",
      "Epoch 100/200\n",
      "24/24 [==============================] - 0s 8ms/step - loss: 0.1305\n",
      "Epoch 101/200\n",
      "24/24 [==============================] - 0s 8ms/step - loss: 0.1487\n",
      "Epoch 102/200\n",
      "24/24 [==============================] - 0s 8ms/step - loss: 0.1334\n",
      "Epoch 103/200\n",
      "24/24 [==============================] - 0s 8ms/step - loss: 0.1263\n",
      "Epoch 104/200\n",
      "24/24 [==============================] - 0s 8ms/step - loss: 0.1418\n",
      "Epoch 105/200\n",
      "24/24 [==============================] - 0s 8ms/step - loss: 0.1209\n",
      "Epoch 106/200\n",
      "24/24 [==============================] - 0s 8ms/step - loss: 0.1266\n",
      "Epoch 107/200\n",
      "24/24 [==============================] - 0s 8ms/step - loss: 0.1181\n",
      "Epoch 108/200\n",
      "24/24 [==============================] - 0s 8ms/step - loss: 0.1328\n",
      "Epoch 109/200\n",
      "24/24 [==============================] - 0s 8ms/step - loss: 0.1204\n",
      "Epoch 110/200\n",
      "24/24 [==============================] - 0s 8ms/step - loss: 0.1312\n",
      "Epoch 111/200\n",
      "24/24 [==============================] - 0s 8ms/step - loss: 0.1412\n",
      "Epoch 112/200\n",
      "24/24 [==============================] - 0s 8ms/step - loss: 0.1183\n",
      "Epoch 113/200\n",
      "24/24 [==============================] - 0s 10ms/step - loss: 0.1204\n",
      "Epoch 114/200\n",
      "24/24 [==============================] - 0s 8ms/step - loss: 0.1608\n",
      "Epoch 115/200\n",
      "24/24 [==============================] - 0s 8ms/step - loss: 0.1287\n",
      "Epoch 116/200\n",
      "24/24 [==============================] - 0s 8ms/step - loss: 0.1194\n",
      "Epoch 117/200\n",
      "24/24 [==============================] - 0s 8ms/step - loss: 0.1124\n",
      "Epoch 118/200\n",
      "24/24 [==============================] - 0s 8ms/step - loss: 0.1230\n",
      "Epoch 119/200\n",
      "24/24 [==============================] - 0s 8ms/step - loss: 0.1204\n",
      "Epoch 120/200\n",
      "24/24 [==============================] - 0s 8ms/step - loss: 0.1354\n",
      "Epoch 121/200\n",
      "24/24 [==============================] - 0s 8ms/step - loss: 0.1176\n",
      "Epoch 122/200\n",
      "24/24 [==============================] - 0s 8ms/step - loss: 0.1253\n",
      "Epoch 123/200\n",
      "24/24 [==============================] - 0s 8ms/step - loss: 0.1241\n",
      "Epoch 124/200\n",
      "24/24 [==============================] - 0s 8ms/step - loss: 0.1344\n",
      "Epoch 125/200\n",
      "24/24 [==============================] - 0s 8ms/step - loss: 0.1210\n",
      "Epoch 126/200\n",
      "24/24 [==============================] - 0s 8ms/step - loss: 0.1197\n",
      "Epoch 127/200\n",
      "24/24 [==============================] - 0s 8ms/step - loss: 0.1192\n",
      "Epoch 128/200\n",
      "24/24 [==============================] - 0s 9ms/step - loss: 0.1276\n",
      "Epoch 129/200\n",
      "24/24 [==============================] - 0s 8ms/step - loss: 0.1136\n",
      "Epoch 130/200\n",
      "24/24 [==============================] - 0s 8ms/step - loss: 0.1070\n",
      "Epoch 131/200\n",
      "24/24 [==============================] - 0s 8ms/step - loss: 0.1217\n",
      "Epoch 132/200\n",
      "24/24 [==============================] - 0s 8ms/step - loss: 0.1176\n",
      "Epoch 133/200\n",
      "24/24 [==============================] - 0s 8ms/step - loss: 0.1186\n",
      "Epoch 134/200\n",
      "24/24 [==============================] - 0s 8ms/step - loss: 0.1129\n",
      "Epoch 135/200\n",
      "24/24 [==============================] - 0s 8ms/step - loss: 0.1052\n",
      "Epoch 136/200\n",
      "24/24 [==============================] - 0s 8ms/step - loss: 0.1161\n",
      "Epoch 137/200\n",
      "24/24 [==============================] - 0s 8ms/step - loss: 0.1200\n",
      "Epoch 138/200\n",
      "24/24 [==============================] - 0s 8ms/step - loss: 0.1087\n",
      "Epoch 139/200\n",
      "24/24 [==============================] - 0s 8ms/step - loss: 0.1104\n",
      "Epoch 140/200\n",
      "24/24 [==============================] - 0s 8ms/step - loss: 0.1061\n",
      "Epoch 141/200\n",
      "24/24 [==============================] - 0s 8ms/step - loss: 0.1022\n",
      "Epoch 142/200\n",
      "24/24 [==============================] - 0s 8ms/step - loss: 0.1096\n",
      "Epoch 143/200\n",
      "24/24 [==============================] - 0s 8ms/step - loss: 0.1181\n",
      "Epoch 144/200\n",
      "24/24 [==============================] - 0s 8ms/step - loss: 0.1046\n",
      "Epoch 145/200\n",
      "24/24 [==============================] - 0s 8ms/step - loss: 0.1099\n",
      "Epoch 146/200\n",
      "24/24 [==============================] - 0s 8ms/step - loss: 0.1124\n",
      "Epoch 147/200\n",
      "24/24 [==============================] - 0s 8ms/step - loss: 0.1172\n",
      "Epoch 148/200\n",
      "24/24 [==============================] - 0s 8ms/step - loss: 0.1186\n",
      "Epoch 149/200\n",
      "24/24 [==============================] - 0s 8ms/step - loss: 0.1336\n",
      "Epoch 150/200\n",
      "24/24 [==============================] - 0s 8ms/step - loss: 0.1083\n",
      "Epoch 151/200\n",
      "24/24 [==============================] - 0s 8ms/step - loss: 0.1072\n",
      "Epoch 152/200\n",
      "24/24 [==============================] - 0s 8ms/step - loss: 0.1032\n",
      "Epoch 153/200\n",
      "24/24 [==============================] - 0s 8ms/step - loss: 0.1234\n",
      "Epoch 154/200\n",
      "24/24 [==============================] - 0s 8ms/step - loss: 0.1225\n",
      "Epoch 155/200\n",
      "24/24 [==============================] - 0s 8ms/step - loss: 0.1175\n",
      "Epoch 156/200\n",
      "24/24 [==============================] - 0s 8ms/step - loss: 0.1026\n",
      "Epoch 157/200\n",
      "24/24 [==============================] - 0s 8ms/step - loss: 0.1100\n",
      "Epoch 158/200\n",
      "24/24 [==============================] - 0s 8ms/step - loss: 0.1238\n",
      "Epoch 159/200\n",
      "24/24 [==============================] - 0s 8ms/step - loss: 0.1027\n",
      "Epoch 160/200\n",
      "24/24 [==============================] - 0s 8ms/step - loss: 0.0974\n",
      "Epoch 161/200\n",
      "24/24 [==============================] - 0s 8ms/step - loss: 0.1070\n",
      "Epoch 162/200\n",
      "24/24 [==============================] - 0s 8ms/step - loss: 0.1160\n",
      "Epoch 163/200\n",
      "24/24 [==============================] - 0s 8ms/step - loss: 0.1067\n",
      "Epoch 164/200\n",
      "24/24 [==============================] - 0s 8ms/step - loss: 0.1075\n",
      "Epoch 165/200\n",
      "24/24 [==============================] - 0s 8ms/step - loss: 0.1275\n",
      "Epoch 166/200\n",
      "24/24 [==============================] - 0s 8ms/step - loss: 0.1050\n",
      "Epoch 167/200\n",
      "24/24 [==============================] - 0s 8ms/step - loss: 0.1251\n",
      "Epoch 168/200\n",
      "24/24 [==============================] - 0s 8ms/step - loss: 0.1201\n",
      "Epoch 169/200\n",
      "24/24 [==============================] - 0s 10ms/step - loss: 0.1176\n",
      "Epoch 170/200\n",
      "24/24 [==============================] - 0s 8ms/step - loss: 0.1324\n",
      "Epoch 171/200\n",
      "24/24 [==============================] - 0s 8ms/step - loss: 0.1030\n",
      "Epoch 172/200\n",
      "24/24 [==============================] - 0s 8ms/step - loss: 0.1050\n",
      "Epoch 173/200\n",
      "24/24 [==============================] - 0s 8ms/step - loss: 0.1156\n",
      "Epoch 174/200\n",
      "24/24 [==============================] - 0s 8ms/step - loss: 0.1020\n",
      "Epoch 175/200\n",
      "24/24 [==============================] - 0s 8ms/step - loss: 0.1160\n",
      "Epoch 176/200\n",
      "24/24 [==============================] - 0s 7ms/step - loss: 0.1054\n",
      "Epoch 177/200\n",
      "24/24 [==============================] - 0s 7ms/step - loss: 0.1201\n",
      "Epoch 178/200\n",
      "24/24 [==============================] - 0s 7ms/step - loss: 0.1145\n",
      "Epoch 179/200\n",
      "24/24 [==============================] - 0s 8ms/step - loss: 0.1024\n",
      "Epoch 180/200\n",
      "24/24 [==============================] - 0s 7ms/step - loss: 0.1052\n",
      "Epoch 181/200\n",
      "24/24 [==============================] - 0s 8ms/step - loss: 0.1052\n",
      "Epoch 182/200\n",
      "24/24 [==============================] - 0s 8ms/step - loss: 0.1136\n",
      "Epoch 183/200\n",
      "24/24 [==============================] - 0s 8ms/step - loss: 0.1098\n",
      "Epoch 184/200\n",
      "24/24 [==============================] - 0s 8ms/step - loss: 0.1053\n",
      "Epoch 185/200\n",
      "24/24 [==============================] - 0s 8ms/step - loss: 0.0981\n",
      "Epoch 186/200\n",
      "24/24 [==============================] - 0s 8ms/step - loss: 0.0981\n",
      "Epoch 187/200\n",
      "24/24 [==============================] - 0s 8ms/step - loss: 0.1127\n",
      "Epoch 188/200\n",
      "24/24 [==============================] - 0s 7ms/step - loss: 0.1040\n",
      "Epoch 189/200\n",
      "24/24 [==============================] - 0s 8ms/step - loss: 0.1009\n",
      "Epoch 190/200\n",
      "24/24 [==============================] - 0s 7ms/step - loss: 0.1034\n",
      "Epoch 191/200\n",
      "24/24 [==============================] - 0s 8ms/step - loss: 0.1090\n",
      "Epoch 192/200\n",
      "24/24 [==============================] - 0s 8ms/step - loss: 0.1024\n",
      "Epoch 193/200\n",
      "24/24 [==============================] - 0s 8ms/step - loss: 0.1100\n",
      "Epoch 194/200\n",
      "24/24 [==============================] - 0s 8ms/step - loss: 0.1037\n",
      "Epoch 195/200\n",
      "24/24 [==============================] - 0s 8ms/step - loss: 0.1056\n",
      "Epoch 196/200\n",
      "24/24 [==============================] - 0s 8ms/step - loss: 0.1134\n",
      "Epoch 197/200\n",
      "24/24 [==============================] - 0s 8ms/step - loss: 0.1008\n",
      "Epoch 198/200\n",
      "24/24 [==============================] - 0s 8ms/step - loss: 0.1168\n",
      "Epoch 199/200\n",
      "24/24 [==============================] - 0s 8ms/step - loss: 0.1040\n",
      "Epoch 200/200\n",
      "24/24 [==============================] - 0s 8ms/step - loss: 0.1069\n"
     ]
    },
    {
     "data": {
      "text/plain": [
       "<tensorflow.python.keras.callbacks.History at 0x7f879e670cd0>"
      ]
     },
     "execution_count": 36,
     "metadata": {},
     "output_type": "execute_result"
    }
   ],
   "source": [
    "model.fit(X[cell_features],X[cell_features],batch_size=1000,epochs=200)"
   ]
  },
  {
   "cell_type": "code",
   "execution_count": 37,
   "metadata": {
    "execution": {
     "iopub.execute_input": "2021-06-29T12:57:20.659563Z",
     "iopub.status.busy": "2021-06-29T12:57:20.658646Z",
     "iopub.status.idle": "2021-06-29T12:57:20.684094Z",
     "shell.execute_reply": "2021-06-29T12:57:20.682917Z",
     "shell.execute_reply.started": "2021-06-29T12:57:20.659496Z"
    }
   },
   "outputs": [],
   "source": [
    "encoder =tf.keras. Model(inputs=inp, outputs=enc2)\n",
    "#save the encoder to a file\n",
    "encoder.save('encoder_cell_features1.h5')"
   ]
  },
  {
   "cell_type": "code",
   "execution_count": 39,
   "metadata": {
    "execution": {
     "iopub.execute_input": "2021-06-29T12:58:18.351742Z",
     "iopub.status.busy": "2021-06-29T12:58:18.351217Z",
     "iopub.status.idle": "2021-06-29T12:58:21.206053Z",
     "shell.execute_reply": "2021-06-29T12:58:21.204540Z",
     "shell.execute_reply.started": "2021-06-29T12:58:18.351690Z"
    }
   },
   "outputs": [],
   "source": [
    "encoder = load_model('encoder1.h5')\n",
    "X1_train_gene_features=encoder.predict(X[gene_features])\n",
    "X_test_gene_features=encoder.predict(test_features[gene_features])\n",
    "\n",
    "encoder = load_model('encoder_cell_features1.h5')\n",
    "X1_train_cell_features=encoder.predict(X[cell_features])\n",
    "X_test_cell_features=encoder.predict(test_features[cell_features])"
   ]
  },
  {
   "cell_type": "code",
   "execution_count": 40,
   "metadata": {
    "execution": {
     "iopub.execute_input": "2021-06-29T12:59:06.034433Z",
     "iopub.status.busy": "2021-06-29T12:59:06.033938Z",
     "iopub.status.idle": "2021-06-29T12:59:06.071732Z",
     "shell.execute_reply": "2021-06-29T12:59:06.070555Z",
     "shell.execute_reply.started": "2021-06-29T12:59:06.034389Z"
    }
   },
   "outputs": [],
   "source": [
    "X2_train=np.hstack((X1_train_gene_features,X1_train_cell_features,X['cp_type_le'].values.reshape(-1,1),X['cp_time_le'].values.reshape(-1,1),X['cp_dose_le'].values.reshape(-1,1)))"
   ]
  },
  {
   "cell_type": "code",
   "execution_count": 41,
   "metadata": {
    "execution": {
     "iopub.execute_input": "2021-06-29T12:59:07.940733Z",
     "iopub.status.busy": "2021-06-29T12:59:07.940257Z",
     "iopub.status.idle": "2021-06-29T12:59:07.950229Z",
     "shell.execute_reply": "2021-06-29T12:59:07.948652Z",
     "shell.execute_reply.started": "2021-06-29T12:59:07.940685Z"
    }
   },
   "outputs": [],
   "source": [
    "X2_test=np.hstack((X_test_gene_features,X_test_cell_features,test_features['cp_type_le'].values.reshape(-1,1),test_features['cp_time_le'].values.reshape(-1,1),test_features['cp_dose_le'].values.reshape(-1,1)))"
   ]
  },
  {
   "cell_type": "code",
   "execution_count": 42,
   "metadata": {
    "execution": {
     "iopub.execute_input": "2021-06-29T12:59:27.558163Z",
     "iopub.status.busy": "2021-06-29T12:59:27.557698Z",
     "iopub.status.idle": "2021-06-29T12:59:27.587322Z",
     "shell.execute_reply": "2021-06-29T12:59:27.586417Z",
     "shell.execute_reply.started": "2021-06-29T12:59:27.558126Z"
    }
   },
   "outputs": [
    {
     "data": {
      "text/html": [
       "<div>\n",
       "<style scoped>\n",
       "    .dataframe tbody tr th:only-of-type {\n",
       "        vertical-align: middle;\n",
       "    }\n",
       "\n",
       "    .dataframe tbody tr th {\n",
       "        vertical-align: top;\n",
       "    }\n",
       "\n",
       "    .dataframe thead th {\n",
       "        text-align: right;\n",
       "    }\n",
       "</style>\n",
       "<table border=\"1\" class=\"dataframe\">\n",
       "  <thead>\n",
       "    <tr style=\"text-align: right;\">\n",
       "      <th></th>\n",
       "      <th>sig_id</th>\n",
       "      <th>g-0</th>\n",
       "      <th>g-1</th>\n",
       "      <th>g-2</th>\n",
       "      <th>g-3</th>\n",
       "      <th>g-4</th>\n",
       "      <th>g-5</th>\n",
       "      <th>g-6</th>\n",
       "      <th>g-7</th>\n",
       "      <th>g-8</th>\n",
       "      <th>...</th>\n",
       "      <th>tubulin_inhibitor</th>\n",
       "      <th>tyrosine_kinase_inhibitor</th>\n",
       "      <th>ubiquitin_specific_protease_inhibitor</th>\n",
       "      <th>vegfr_inhibitor</th>\n",
       "      <th>vitamin_b</th>\n",
       "      <th>vitamin_d_receptor_agonist</th>\n",
       "      <th>wnt_inhibitor</th>\n",
       "      <th>cp_type_le</th>\n",
       "      <th>cp_time_le</th>\n",
       "      <th>cp_dose_le</th>\n",
       "    </tr>\n",
       "  </thead>\n",
       "  <tbody>\n",
       "    <tr>\n",
       "      <th>0</th>\n",
       "      <td>id_000644bb2</td>\n",
       "      <td>1.0620</td>\n",
       "      <td>0.5577</td>\n",
       "      <td>-0.2479</td>\n",
       "      <td>-0.6208</td>\n",
       "      <td>-0.1944</td>\n",
       "      <td>-1.0120</td>\n",
       "      <td>-1.0220</td>\n",
       "      <td>-0.0326</td>\n",
       "      <td>0.5548</td>\n",
       "      <td>...</td>\n",
       "      <td>0</td>\n",
       "      <td>0</td>\n",
       "      <td>0</td>\n",
       "      <td>0</td>\n",
       "      <td>0</td>\n",
       "      <td>0</td>\n",
       "      <td>0</td>\n",
       "      <td>1</td>\n",
       "      <td>0</td>\n",
       "      <td>0</td>\n",
       "    </tr>\n",
       "    <tr>\n",
       "      <th>1</th>\n",
       "      <td>id_000779bfc</td>\n",
       "      <td>0.0743</td>\n",
       "      <td>0.4087</td>\n",
       "      <td>0.2991</td>\n",
       "      <td>0.0604</td>\n",
       "      <td>1.0190</td>\n",
       "      <td>0.5207</td>\n",
       "      <td>0.2341</td>\n",
       "      <td>0.3372</td>\n",
       "      <td>-0.4047</td>\n",
       "      <td>...</td>\n",
       "      <td>0</td>\n",
       "      <td>0</td>\n",
       "      <td>0</td>\n",
       "      <td>0</td>\n",
       "      <td>0</td>\n",
       "      <td>0</td>\n",
       "      <td>0</td>\n",
       "      <td>1</td>\n",
       "      <td>2</td>\n",
       "      <td>0</td>\n",
       "    </tr>\n",
       "    <tr>\n",
       "      <th>2</th>\n",
       "      <td>id_000a6266a</td>\n",
       "      <td>0.6280</td>\n",
       "      <td>0.5817</td>\n",
       "      <td>1.5540</td>\n",
       "      <td>-0.0764</td>\n",
       "      <td>-0.0323</td>\n",
       "      <td>1.2390</td>\n",
       "      <td>0.1715</td>\n",
       "      <td>0.2155</td>\n",
       "      <td>0.0065</td>\n",
       "      <td>...</td>\n",
       "      <td>0</td>\n",
       "      <td>0</td>\n",
       "      <td>0</td>\n",
       "      <td>0</td>\n",
       "      <td>0</td>\n",
       "      <td>0</td>\n",
       "      <td>0</td>\n",
       "      <td>1</td>\n",
       "      <td>1</td>\n",
       "      <td>0</td>\n",
       "    </tr>\n",
       "    <tr>\n",
       "      <th>3</th>\n",
       "      <td>id_0015fd391</td>\n",
       "      <td>-0.5138</td>\n",
       "      <td>-0.2491</td>\n",
       "      <td>-0.2656</td>\n",
       "      <td>0.5288</td>\n",
       "      <td>4.0620</td>\n",
       "      <td>-0.8095</td>\n",
       "      <td>-1.9590</td>\n",
       "      <td>0.1792</td>\n",
       "      <td>-0.1321</td>\n",
       "      <td>...</td>\n",
       "      <td>0</td>\n",
       "      <td>0</td>\n",
       "      <td>0</td>\n",
       "      <td>0</td>\n",
       "      <td>0</td>\n",
       "      <td>0</td>\n",
       "      <td>0</td>\n",
       "      <td>1</td>\n",
       "      <td>1</td>\n",
       "      <td>0</td>\n",
       "    </tr>\n",
       "    <tr>\n",
       "      <th>4</th>\n",
       "      <td>id_001626bd3</td>\n",
       "      <td>-0.3254</td>\n",
       "      <td>-0.4009</td>\n",
       "      <td>0.9700</td>\n",
       "      <td>0.6919</td>\n",
       "      <td>1.4180</td>\n",
       "      <td>-0.8244</td>\n",
       "      <td>-0.2800</td>\n",
       "      <td>-0.1498</td>\n",
       "      <td>-0.8789</td>\n",
       "      <td>...</td>\n",
       "      <td>0</td>\n",
       "      <td>0</td>\n",
       "      <td>0</td>\n",
       "      <td>0</td>\n",
       "      <td>0</td>\n",
       "      <td>0</td>\n",
       "      <td>0</td>\n",
       "      <td>1</td>\n",
       "      <td>2</td>\n",
       "      <td>1</td>\n",
       "    </tr>\n",
       "  </tbody>\n",
       "</table>\n",
       "<p>5 rows × 1082 columns</p>\n",
       "</div>"
      ],
      "text/plain": [
       "         sig_id     g-0     g-1     g-2     g-3     g-4     g-5     g-6  \\\n",
       "0  id_000644bb2  1.0620  0.5577 -0.2479 -0.6208 -0.1944 -1.0120 -1.0220   \n",
       "1  id_000779bfc  0.0743  0.4087  0.2991  0.0604  1.0190  0.5207  0.2341   \n",
       "2  id_000a6266a  0.6280  0.5817  1.5540 -0.0764 -0.0323  1.2390  0.1715   \n",
       "3  id_0015fd391 -0.5138 -0.2491 -0.2656  0.5288  4.0620 -0.8095 -1.9590   \n",
       "4  id_001626bd3 -0.3254 -0.4009  0.9700  0.6919  1.4180 -0.8244 -0.2800   \n",
       "\n",
       "      g-7     g-8  ...  tubulin_inhibitor  tyrosine_kinase_inhibitor  \\\n",
       "0 -0.0326  0.5548  ...                  0                          0   \n",
       "1  0.3372 -0.4047  ...                  0                          0   \n",
       "2  0.2155  0.0065  ...                  0                          0   \n",
       "3  0.1792 -0.1321  ...                  0                          0   \n",
       "4 -0.1498 -0.8789  ...                  0                          0   \n",
       "\n",
       "   ubiquitin_specific_protease_inhibitor  vegfr_inhibitor  vitamin_b  \\\n",
       "0                                      0                0          0   \n",
       "1                                      0                0          0   \n",
       "2                                      0                0          0   \n",
       "3                                      0                0          0   \n",
       "4                                      0                0          0   \n",
       "\n",
       "   vitamin_d_receptor_agonist  wnt_inhibitor  cp_type_le  cp_time_le  \\\n",
       "0                           0              0           1           0   \n",
       "1                           0              0           1           2   \n",
       "2                           0              0           1           1   \n",
       "3                           0              0           1           1   \n",
       "4                           0              0           1           2   \n",
       "\n",
       "   cp_dose_le  \n",
       "0           0  \n",
       "1           0  \n",
       "2           0  \n",
       "3           0  \n",
       "4           1  \n",
       "\n",
       "[5 rows x 1082 columns]"
      ]
     },
     "execution_count": 42,
     "metadata": {},
     "output_type": "execute_result"
    }
   ],
   "source": [
    "X.head()"
   ]
  },
  {
   "cell_type": "code",
   "execution_count": 46,
   "metadata": {
    "execution": {
     "iopub.execute_input": "2021-06-29T13:00:12.171432Z",
     "iopub.status.busy": "2021-06-29T13:00:12.170807Z",
     "iopub.status.idle": "2021-06-29T13:00:12.177730Z",
     "shell.execute_reply": "2021-06-29T13:00:12.176556Z",
     "shell.execute_reply.started": "2021-06-29T13:00:12.171391Z"
    }
   },
   "outputs": [
    {
     "data": {
      "text/plain": [
       "((23814, 498), (23814, 206))"
      ]
     },
     "execution_count": 46,
     "metadata": {},
     "output_type": "execute_result"
    }
   ],
   "source": [
    "X2_train.shape,Y.shape"
   ]
  },
  {
   "cell_type": "code",
   "execution_count": 44,
   "metadata": {
    "execution": {
     "iopub.execute_input": "2021-06-29T12:59:48.112393Z",
     "iopub.status.busy": "2021-06-29T12:59:48.111963Z",
     "iopub.status.idle": "2021-06-29T12:59:48.116829Z",
     "shell.execute_reply": "2021-06-29T12:59:48.115936Z",
     "shell.execute_reply.started": "2021-06-29T12:59:48.112356Z"
    }
   },
   "outputs": [],
   "source": [
    "from skmultilearn.problem_transform import ClassifierChain"
   ]
  },
  {
   "cell_type": "code",
   "execution_count": 47,
   "metadata": {
    "execution": {
     "iopub.execute_input": "2021-06-29T13:00:16.625536Z",
     "iopub.status.busy": "2021-06-29T13:00:16.624663Z",
     "iopub.status.idle": "2021-06-29T14:08:07.136448Z",
     "shell.execute_reply": "2021-06-29T14:08:07.135112Z",
     "shell.execute_reply.started": "2021-06-29T13:00:16.625469Z"
    }
   },
   "outputs": [
    {
     "data": {
      "text/plain": [
       "ClassifierChain(classifier=RandomForestClassifier(max_depth=7, n_estimators=75),\n",
       "                require_dense=[True, True])"
      ]
     },
     "execution_count": 47,
     "metadata": {},
     "output_type": "execute_result"
    }
   ],
   "source": [
    "classifier = ClassifierChain(classifier = RandomForestClassifier(max_depth=7,n_estimators=75))\n",
    "classifier.fit(X2_train,Y)\n"
   ]
  },
  {
   "cell_type": "code",
   "execution_count": 48,
   "metadata": {
    "execution": {
     "iopub.execute_input": "2021-06-29T14:11:15.817564Z",
     "iopub.status.busy": "2021-06-29T14:11:15.816906Z",
     "iopub.status.idle": "2021-06-29T14:11:37.428405Z",
     "shell.execute_reply": "2021-06-29T14:11:37.427286Z",
     "shell.execute_reply.started": "2021-06-29T14:11:15.817524Z"
    }
   },
   "outputs": [],
   "source": [
    "prediction=classifier.predict_proba(X2_test)"
   ]
  },
  {
   "cell_type": "code",
   "execution_count": 49,
   "metadata": {
    "execution": {
     "iopub.execute_input": "2021-06-29T14:11:51.143869Z",
     "iopub.status.busy": "2021-06-29T14:11:51.143473Z",
     "iopub.status.idle": "2021-06-29T14:11:51.149909Z",
     "shell.execute_reply": "2021-06-29T14:11:51.148870Z",
     "shell.execute_reply.started": "2021-06-29T14:11:51.143836Z"
    }
   },
   "outputs": [
    {
     "data": {
      "text/plain": [
       "(3982, 206)"
      ]
     },
     "execution_count": 49,
     "metadata": {},
     "output_type": "execute_result"
    }
   ],
   "source": [
    "prediction.shape"
   ]
  },
  {
   "cell_type": "code",
   "execution_count": null,
   "metadata": {},
   "outputs": [],
   "source": []
  },
  {
   "cell_type": "code",
   "execution_count": 51,
   "metadata": {
    "execution": {
     "iopub.execute_input": "2021-06-29T14:12:30.260174Z",
     "iopub.status.busy": "2021-06-29T14:12:30.259511Z",
     "iopub.status.idle": "2021-06-29T14:12:30.269040Z",
     "shell.execute_reply": "2021-06-29T14:12:30.268252Z",
     "shell.execute_reply.started": "2021-06-29T14:12:30.260133Z"
    }
   },
   "outputs": [],
   "source": [
    "submission=pd.DataFrame(prediction.todense(),columns=[i for i in target_cols_scored])"
   ]
  },
  {
   "cell_type": "code",
   "execution_count": 52,
   "metadata": {
    "execution": {
     "iopub.execute_input": "2021-06-29T14:12:52.166022Z",
     "iopub.status.busy": "2021-06-29T14:12:52.165555Z",
     "iopub.status.idle": "2021-06-29T14:12:52.173848Z",
     "shell.execute_reply": "2021-06-29T14:12:52.172541Z",
     "shell.execute_reply.started": "2021-06-29T14:12:52.165985Z"
    }
   },
   "outputs": [],
   "source": [
    "submission['sig_id']=test_features['sig_id']"
   ]
  },
  {
   "cell_type": "code",
   "execution_count": 53,
   "metadata": {
    "execution": {
     "iopub.execute_input": "2021-06-29T14:12:55.649009Z",
     "iopub.status.busy": "2021-06-29T14:12:55.648349Z",
     "iopub.status.idle": "2021-06-29T14:12:55.654533Z",
     "shell.execute_reply": "2021-06-29T14:12:55.653719Z",
     "shell.execute_reply.started": "2021-06-29T14:12:55.648967Z"
    }
   },
   "outputs": [
    {
     "data": {
      "text/plain": [
       "(3982, 207)"
      ]
     },
     "execution_count": 53,
     "metadata": {},
     "output_type": "execute_result"
    }
   ],
   "source": [
    "submission.shape"
   ]
  },
  {
   "cell_type": "code",
   "execution_count": 54,
   "metadata": {
    "execution": {
     "iopub.execute_input": "2021-06-29T14:12:58.989681Z",
     "iopub.status.busy": "2021-06-29T14:12:58.989056Z",
     "iopub.status.idle": "2021-06-29T14:13:00.902743Z",
     "shell.execute_reply": "2021-06-29T14:13:00.901523Z",
     "shell.execute_reply.started": "2021-06-29T14:12:58.989642Z"
    }
   },
   "outputs": [],
   "source": [
    "submission.to_csv(\"submission.csv\",index=False)"
   ]
  },
  {
   "attachments": {
    "df89bc74-44e5-4793-a07c-dcfd0dc72bf3.png": {
     "image/png": "[encoded data removed]"
    }
   },
   "cell_type": "markdown",
   "metadata": {},
   "source": [
    "![image.png](attachment:df89bc74-44e5-4793-a07c-dcfd0dc72bf3.png)\n"
   ]
  },
  {
   "cell_type": "code",
   "execution_count": null,
   "metadata": {},
   "outputs": [],
   "source": []
  }
 ],
 "metadata": {
  "kernelspec": {
   "display_name": "Python 3 (ipykernel)",
   "language": "python",
   "name": "python3"
  },
  "language_info": {
   "codemirror_mode": {
    "name": "ipython",
    "version": 3
   },
   "file_extension": ".py",
   "mimetype": "text/x-python",
   "name": "python",
   "nbconvert_exporter": "python",
   "pygments_lexer": "ipython3",
   "version": "3.8.12"
  }
 },
 "nbformat": 4,
 "nbformat_minor": 4
}
