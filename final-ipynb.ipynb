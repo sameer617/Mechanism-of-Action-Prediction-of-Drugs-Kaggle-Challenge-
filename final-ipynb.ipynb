{
 "cells": [
  {
   "cell_type": "code",
   "execution_count": 5,
   "metadata": {
    "tags": []
   },
   "outputs": [],
   "source": [
    "#importing important libraries\n",
    "\n",
    "import pandas as pd\n",
    "import numpy as np\n",
    "import matplotlib.pyplot as plt\n",
    "import seaborn as sns\n",
    "import pickle\n",
    "from skmultilearn.model_selection import iterative_train_test_split\n",
    "#from iterstrat.ml_stratifiers import MultilabelStratifiedKFold\n",
    "\n",
    "from sklearn.model_selection import KFold\n",
    "from sklearn.model_selection import StratifiedKFold\n",
    "from sklearn.metrics import log_loss,f1_score,confusion_matrix\n",
    "from sklearn.multiclass import OneVsRestClassifier\n",
    "from sklearn.ensemble import RandomForestClassifier\n",
    "import xgboost as xgb\n",
    "from sklearn.metrics import accuracy_score\n",
    "from tensorflow.keras.models import load_model\n",
    "import tensorflow as tf\n",
    "from sklearn.preprocessing import LabelEncoder\n",
    "import tensorflow_addons as tfa\n",
    "import pickle\n",
    "from tensorflow.keras import backend"
   ]
  },
  {
   "cell_type": "code",
   "execution_count": 3,
   "metadata": {
    "execution": {
     "iopub.execute_input": "2021-11-04T02:46:37.413481Z",
     "iopub.status.busy": "2021-11-04T02:46:37.412490Z",
     "iopub.status.idle": "2021-11-04T02:46:37.420078Z",
     "shell.execute_reply": "2021-11-04T02:46:37.419249Z",
     "shell.execute_reply.started": "2021-11-04T02:46:37.413442Z"
    }
   },
   "outputs": [],
   "source": [
    "import warnings\n",
    "warnings.filterwarnings(\"ignore\")"
   ]
  },
  {
   "cell_type": "code",
   "execution_count": 4,
   "metadata": {
    "execution": {
     "iopub.execute_input": "2021-11-04T02:46:37.422148Z",
     "iopub.status.busy": "2021-11-04T02:46:37.421662Z",
     "iopub.status.idle": "2021-11-04T02:46:45.534326Z",
     "shell.execute_reply": "2021-11-04T02:46:45.533341Z",
     "shell.execute_reply.started": "2021-11-04T02:46:37.422102Z"
    }
   },
   "outputs": [],
   "source": [
    "#reading train dataset\n",
    "\n",
    "train_features=pd.read_csv('../input/lish-moa/train_features.csv')\n",
    "test_features=pd.read_csv('../input/lish-moa/test_features.csv')\n",
    "train_targets_scored=pd.read_csv('../input/lish-moa/train_targets_scored.csv')\n",
    "train_targets_nonscored=pd.read_csv('../input/lish-moa/train_targets_nonscored.csv')\n",
    "train_drug=pd.read_csv('../input/lish-moa/train_drug.csv')"
   ]
  },
  {
   "cell_type": "code",
   "execution_count": 5,
   "metadata": {
    "execution": {
     "iopub.execute_input": "2021-11-04T02:46:45.536895Z",
     "iopub.status.busy": "2021-11-04T02:46:45.536654Z",
     "iopub.status.idle": "2021-11-04T02:46:45.542704Z",
     "shell.execute_reply": "2021-11-04T02:46:45.542012Z",
     "shell.execute_reply.started": "2021-11-04T02:46:45.536863Z"
    }
   },
   "outputs": [],
   "source": [
    "import random\n",
    "def seed_everything(seed=42):\n",
    "    random.seed(seed)\n",
    "    os.environ['PYTHONHASHSEED'] = str(seed)\n",
    "    np.random.seed(seed)\n",
    "seed_everything(seed=42)"
   ]
  },
  {
   "cell_type": "code",
   "execution_count": 6,
   "metadata": {
    "execution": {
     "iopub.execute_input": "2021-11-04T02:46:45.544681Z",
     "iopub.status.busy": "2021-11-04T02:46:45.543871Z",
     "iopub.status.idle": "2021-11-04T02:46:45.554148Z",
     "shell.execute_reply": "2021-11-04T02:46:45.553370Z",
     "shell.execute_reply.started": "2021-11-04T02:46:45.544633Z"
    }
   },
   "outputs": [],
   "source": [
    "n_folds=10\n",
    "SEEDS=[660,42,2020,72,64]"
   ]
  },
  {
   "cell_type": "code",
   "execution_count": 7,
   "metadata": {
    "execution": {
     "iopub.execute_input": "2021-11-04T02:46:45.556368Z",
     "iopub.status.busy": "2021-11-04T02:46:45.555823Z",
     "iopub.status.idle": "2021-11-04T02:46:45.566015Z",
     "shell.execute_reply": "2021-11-04T02:46:45.565068Z",
     "shell.execute_reply.started": "2021-11-04T02:46:45.556321Z"
    }
   },
   "outputs": [],
   "source": [
    "#list of names of the MoAs in the dataset\n",
    "target_cols_scored=[col for col in train_targets_scored.columns if col not in ['sig_id']]\n",
    "target_cols_nonscored=[col for col in train_targets_nonscored.columns if col not in ['sig_id']]"
   ]
  },
  {
   "cell_type": "code",
   "execution_count": 8,
   "metadata": {
    "execution": {
     "iopub.execute_input": "2021-11-04T02:46:45.568049Z",
     "iopub.status.busy": "2021-11-04T02:46:45.567670Z",
     "iopub.status.idle": "2021-11-04T02:46:45.577405Z",
     "shell.execute_reply": "2021-11-04T02:46:45.576595Z",
     "shell.execute_reply.started": "2021-11-04T02:46:45.568007Z"
    }
   },
   "outputs": [],
   "source": [
    "#separating gene feautres and cell features in a separate list\n",
    "#we know that all the gene expression features name starts with 'g-' and cell features name starts with 'c-', hence trying to observe set of all the gene expression as one function and all the cell functions as one features\n",
    "gene_features=[]\n",
    "cell_features=[]\n",
    "for i in train_features.columns:\n",
    "    if i.startswith('g-'):\n",
    "        gene_features.append(i)\n",
    "    if i.startswith('c-'):\n",
    "        cell_features.append(i)"
   ]
  },
  {
   "cell_type": "code",
   "execution_count": 9,
   "metadata": {
    "execution": {
     "iopub.execute_input": "2021-11-04T02:46:45.579707Z",
     "iopub.status.busy": "2021-11-04T02:46:45.579446Z",
     "iopub.status.idle": "2021-11-04T02:46:45.755216Z",
     "shell.execute_reply": "2021-11-04T02:46:45.754314Z",
     "shell.execute_reply.started": "2021-11-04T02:46:45.579677Z"
    }
   },
   "outputs": [],
   "source": [
    "#merging the train dataset and train target scored dataset into one\n",
    "train_merge=pd.merge(train_features,train_targets_scored,on=\"sig_id\",how=\"left\")"
   ]
  },
  {
   "cell_type": "code",
   "execution_count": 10,
   "metadata": {
    "execution": {
     "iopub.execute_input": "2021-11-04T02:46:45.756773Z",
     "iopub.status.busy": "2021-11-04T02:46:45.756548Z",
     "iopub.status.idle": "2021-11-04T02:46:45.896259Z",
     "shell.execute_reply": "2021-11-04T02:46:45.895429Z",
     "shell.execute_reply.started": "2021-11-04T02:46:45.756747Z"
    }
   },
   "outputs": [],
   "source": [
    "train_merge=train_merge[train_merge['cp_type']!='ctl_vehicle']\n",
    "#test_features1=test_features.copy()\n",
    "test_features1=test_features[test_features['cp_type']!='ctl_vehicle']"
   ]
  },
  {
   "cell_type": "code",
   "execution_count": 11,
   "metadata": {
    "execution": {
     "iopub.execute_input": "2021-11-04T02:46:45.897823Z",
     "iopub.status.busy": "2021-11-04T02:46:45.897602Z",
     "iopub.status.idle": "2021-11-04T02:46:45.976560Z",
     "shell.execute_reply": "2021-11-04T02:46:45.975821Z",
     "shell.execute_reply.started": "2021-11-04T02:46:45.897795Z"
    }
   },
   "outputs": [],
   "source": [
    "train_merge.drop(columns=['cp_type'],inplace=True)\n",
    "test_features1.drop(columns=['cp_type'],inplace=True)"
   ]
  },
  {
   "cell_type": "code",
   "execution_count": 12,
   "metadata": {
    "execution": {
     "iopub.execute_input": "2021-11-04T02:46:45.978436Z",
     "iopub.status.busy": "2021-11-04T02:46:45.977658Z",
     "iopub.status.idle": "2021-11-04T02:46:45.999474Z",
     "shell.execute_reply": "2021-11-04T02:46:45.998883Z",
     "shell.execute_reply.started": "2021-11-04T02:46:45.978397Z"
    }
   },
   "outputs": [],
   "source": [
    "lb=LabelEncoder()\n",
    "lb.fit(train_merge['cp_time'])\n",
    "\n",
    "train_merge['cp_time']=lb.transform(train_merge['cp_time'])\n",
    "test_features1['cp_time']=lb.transform(test_features1['cp_time'])\n",
    "##################################################################################\n",
    "lb1=LabelEncoder()\n",
    "lb1.fit(train_merge['cp_dose'])\n",
    "\n",
    "train_merge['cp_dose']=lb1.transform(train_merge['cp_dose'])\n",
    "test_features1['cp_dose']=lb1.transform(test_features1['cp_dose'])"
   ]
  },
  {
   "cell_type": "code",
   "execution_count": 13,
   "metadata": {
    "execution": {
     "iopub.execute_input": "2021-11-04T02:46:46.001077Z",
     "iopub.status.busy": "2021-11-04T02:46:46.000608Z",
     "iopub.status.idle": "2021-11-04T02:46:46.005235Z",
     "shell.execute_reply": "2021-11-04T02:46:46.004441Z",
     "shell.execute_reply.started": "2021-11-04T02:46:46.001042Z"
    }
   },
   "outputs": [],
   "source": [
    "feature_groups=gene_features+cell_features+['cp_time','cp_dose']\n"
   ]
  },
  {
   "cell_type": "code",
   "execution_count": 14,
   "metadata": {
    "execution": {
     "iopub.execute_input": "2021-11-04T02:46:46.008534Z",
     "iopub.status.busy": "2021-11-04T02:46:46.008237Z",
     "iopub.status.idle": "2021-11-04T02:46:46.090706Z",
     "shell.execute_reply": "2021-11-04T02:46:46.090055Z",
     "shell.execute_reply.started": "2021-11-04T02:46:46.008445Z"
    }
   },
   "outputs": [],
   "source": [
    "train_dataset=train_merge[feature_groups]\n"
   ]
  },
  {
   "cell_type": "code",
   "execution_count": 15,
   "metadata": {
    "execution": {
     "iopub.execute_input": "2021-11-04T02:46:46.092911Z",
     "iopub.status.busy": "2021-11-04T02:46:46.091975Z",
     "iopub.status.idle": "2021-11-04T02:46:46.109125Z",
     "shell.execute_reply": "2021-11-04T02:46:46.108513Z",
     "shell.execute_reply.started": "2021-11-04T02:46:46.092864Z"
    }
   },
   "outputs": [],
   "source": [
    "test_dataset=test_features1[feature_groups]\n"
   ]
  },
  {
   "cell_type": "code",
   "execution_count": null,
   "metadata": {},
   "outputs": [],
   "source": []
  },
  {
   "cell_type": "code",
   "execution_count": 16,
   "metadata": {
    "execution": {
     "iopub.execute_input": "2021-11-04T02:46:46.111085Z",
     "iopub.status.busy": "2021-11-04T02:46:46.110563Z",
     "iopub.status.idle": "2021-11-04T02:46:46.134975Z",
     "shell.execute_reply": "2021-11-04T02:46:46.134083Z",
     "shell.execute_reply.started": "2021-11-04T02:46:46.111036Z"
    }
   },
   "outputs": [],
   "source": [
    "feature_value=train_dataset.iloc[15]\n",
    "Y=train_merge[target_cols_scored].iloc[15]\n"
   ]
  },
  {
   "cell_type": "code",
   "execution_count": null,
   "metadata": {},
   "outputs": [],
   "source": []
  },
  {
   "cell_type": "code",
   "execution_count": 17,
   "metadata": {
    "execution": {
     "iopub.execute_input": "2021-11-04T02:46:46.136716Z",
     "iopub.status.busy": "2021-11-04T02:46:46.136482Z",
     "iopub.status.idle": "2021-11-04T02:46:46.160447Z",
     "shell.execute_reply": "2021-11-04T02:46:46.159731Z",
     "shell.execute_reply.started": "2021-11-04T02:46:46.136688Z"
    }
   },
   "outputs": [],
   "source": [
    "def function1(feature_value):\n",
    "    '''\n",
    "    The function returns the MoA predictions given then feature variables\n",
    "    \n",
    "    '''\n",
    "    nfolds=10\n",
    "    SEEDS=[660,42,2020,72,64]\n",
    "    predicted_value=np.zeros(())\n",
    "    y_pred_model1_seed_level=np.zeros((1,206))\n",
    "    y_pred_model2_seed_level=np.zeros((1,206))\n",
    "    y_pred_model3_seed_level=np.zeros((1,206))\n",
    "    y_pred_model4_seed_level=np.zeros((1,206))\n",
    "    for seed in SEEDS:\n",
    "        seed_everything(seed)\n",
    "        y_pred_model1_fold_level=np.zeros((1,206))\n",
    "        y_pred_model2_fold_level=np.zeros((1,206))\n",
    "        y_pred_model3_fold_level=np.zeros((1,206))\n",
    "        y_pred_model4_fold_level=np.zeros((1,206))\n",
    "        for fold in range(nfolds):\n",
    "            feature_value1=feature_value.copy()\n",
    "            feature_value2=feature_value.copy()\n",
    "            pca_gene1_3_4=pickle.load(open(f'../input/inference-version24/pickle_folder_gene/pca_gene_model1_3_4_seed{seed}_fold{fold}.pkl','rb'))\n",
    "            pca_cell1_3_4=pickle.load(open(f'../input/inference-version24/pickle_folder_cell/pca_cell_model1_3_4_seed{seed}_fold{fold}.pkl','rb'))\n",
    "            qt1_3_4=pickle.load(open(f'../input/inference-version24/pickle_folder_qt/qt_model_1_3_4_seed{seed}_fold{fold}.pkl','rb'))\n",
    "            \n",
    "            pca_gene_2=pickle.load(open(f'../input/inference-version24/pickle_folder_gene/pca_gene_model2_seed{seed}_fold{fold}.pkl','rb'))\n",
    "            pca_cell_2=pickle.load(open(f'../input/inference-version24/pickle_folder_cell/pca_cell_model2_seed{seed}_fold{fold}.pkl','rb'))\n",
    "            qt_2=pickle.load(open(f'../input/inference-version24/pickle_folder_qt/qt_model2_seed{seed}_fold{fold}.pkl','rb'))\n",
    "            \n",
    "            pca_gene_features=pca_gene1_3_4.transform(feature_value2[gene_features].values.reshape(1,-1))\n",
    "            pca_cell_features=pca_cell1_3_4.transform(feature_value2[cell_features].values.reshape(1,-1))\n",
    "     \n",
    "            feature_value2=pd.concat([pd.DataFrame(feature_value2.values.reshape(1,-1)),pd.DataFrame(pca_gene_features),pd.DataFrame(pca_cell_features)],axis=1)\n",
    "            \n",
    "            feature_value2=qt1_3_4.transform(feature_value2)\n",
    "            \n",
    "            \n",
    "            \n",
    "            #MODEL-1------------------------------------------------------------------------------------------------------------------------------\n",
    "            model1=load_model(f'../input/model-1-simple-nn-for-ensembling-ver1/model1_simple_nn_blending_seed{seed}_fold{fold}.h5')  \n",
    "            y_pred1=model1.predict(feature_value2)\n",
    "            \n",
    "            #MODEL-2------------------------------------------------------------------------------------------------------------------------------\n",
    "            \n",
    "            model2=load_model(f'../input/model-2-cnn-for-ensembling-ver1/model_cnn_seed{seed}_fold{fold}.h5')\n",
    "            pca_gene_features=pca_gene_2.transform(feature_value1[gene_features].values.reshape(1,-1))\n",
    "            pca_cell_features=pca_cell_2.transform(feature_value1[cell_features].values.reshape(1,-1))\n",
    "            feature_value1=pd.concat([pd.DataFrame(feature_value1.values.reshape(1,-1)),pd.DataFrame(pca_gene_features),pd.DataFrame(pca_cell_features)],axis=1)\n",
    "            feature_value1=qt_2.transform(feature_value1)\n",
    "            y_pred2=model2.predict(feature_value1)\n",
    "            \n",
    "            #MODEL-3-------------------------------------------------------------------------------------------------------------------------------\n",
    "            model3=load_model(f'../input/model-3-simple-rnn-ensembling-ver1/model3_simple_nn_blending_seed{seed}_fold{fold}.h5')\n",
    "            y_pred3=model3.predict(feature_value2)\n",
    "            \n",
    "            \n",
    "            #MODEL-4--------------------------------------------------------------------------------------------------------------------------------\n",
    "            \n",
    "            model4=load_model(f'../input/model-4-simple-rnn-ensembling-ver1/model4_simple_nn_blending_seed{seed}_fold{fold}.h5')\n",
    "            y_pred4=model4.predict(feature_value2)\n",
    "            \n",
    "         \n",
    "            ########################################################################################################################################\n",
    "            y_pred_model1_fold_level=y_pred_model1_seed_level+y_pred1\n",
    "            y_pred_model2_fold_level=y_pred_model2_seed_level+y_pred2\n",
    "            y_pred_model3_fold_level=y_pred_model3_seed_level+y_pred3\n",
    "            y_pred_model4_fold_level=y_pred_model4_seed_level+y_pred4\n",
    "       \n",
    "        y_pred_model1_seed_level=y_pred_model1_seed_level+y_pred_model1_fold_level\n",
    "        y_pred_model2_seed_level=y_pred_model2_seed_level+y_pred_model2_fold_level\n",
    "        y_pred_model3_seed_level=y_pred_model3_seed_level+y_pred_model3_fold_level\n",
    "        y_pred_model4_seed_level=y_pred_model4_seed_level+y_pred_model4_fold_level\n",
    "        \n",
    "        y_pred_model1_seed_level=y_pred_model1_seed_level/(nfolds*len(SEEDS))\n",
    "        y_pred_model2_seed_level=y_pred_model2_seed_level/(nfolds*len(SEEDS))\n",
    "        y_pred_model3_seed_level=y_pred_model3_seed_level/(nfolds*len(SEEDS))\n",
    "        y_pred_model4_seed_level=y_pred_model4_seed_level/(nfolds*len(SEEDS))\n",
    "        \n",
    "    y_pred_final=(0.85)*y_pred_model1_seed_level+(0.08)*y_pred_model2_seed_level+(0.02)*y_pred_model3_seed_level+(0.05)*y_pred_model4_seed_level\n",
    "    return y_pred_final\n",
    "        \n",
    "            \n",
    "     "
   ]
  },
  {
   "cell_type": "code",
   "execution_count": 19,
   "metadata": {
    "execution": {
     "iopub.execute_input": "2021-11-04T02:54:13.225657Z",
     "iopub.status.busy": "2021-11-04T02:54:13.224794Z",
     "iopub.status.idle": "2021-11-04T03:01:04.341355Z",
     "shell.execute_reply": "2021-11-04T03:01:04.340218Z",
     "shell.execute_reply.started": "2021-11-04T02:54:13.225606Z"
    }
   },
   "outputs": [],
   "source": [
    "y_pred_final=function1(feature_value)"
   ]
  },
  {
   "cell_type": "code",
   "execution_count": 21,
   "metadata": {
    "execution": {
     "iopub.execute_input": "2021-11-04T03:01:04.354947Z",
     "iopub.status.busy": "2021-11-04T03:01:04.354723Z",
     "iopub.status.idle": "2021-11-04T03:01:04.367034Z",
     "shell.execute_reply": "2021-11-04T03:01:04.366187Z",
     "shell.execute_reply.started": "2021-11-04T03:01:04.354917Z"
    }
   },
   "outputs": [
    {
     "data": {
      "text/plain": [
       "(1, 206)"
      ]
     },
     "execution_count": 21,
     "metadata": {},
     "output_type": "execute_result"
    }
   ],
   "source": [
    "y_pred_final"
   ]
  },
  {
   "cell_type": "code",
   "execution_count": 22,
   "metadata": {
    "execution": {
     "iopub.execute_input": "2021-11-04T03:01:04.370576Z",
     "iopub.status.busy": "2021-11-04T03:01:04.369263Z",
     "iopub.status.idle": "2021-11-04T03:01:04.403274Z",
     "shell.execute_reply": "2021-11-04T03:01:04.402425Z",
     "shell.execute_reply.started": "2021-11-04T03:01:04.370529Z"
    }
   },
   "outputs": [],
   "source": [
    "feature_value=train_dataset.iloc[15]\n",
    "Y=train_merge[target_cols_scored].iloc[15]"
   ]
  },
  {
   "cell_type": "code",
   "execution_count": 23,
   "metadata": {
    "execution": {
     "iopub.execute_input": "2021-11-04T03:01:04.405616Z",
     "iopub.status.busy": "2021-11-04T03:01:04.405015Z",
     "iopub.status.idle": "2021-11-04T03:01:04.414574Z",
     "shell.execute_reply": "2021-11-04T03:01:04.413583Z",
     "shell.execute_reply.started": "2021-11-04T03:01:04.405568Z"
    }
   },
   "outputs": [
    {
     "data": {
      "text/plain": [
       "(1, 206)"
      ]
     },
     "execution_count": 23,
     "metadata": {},
     "output_type": "execute_result"
    }
   ],
   "source": [
    "y_pred_final.shape"
   ]
  },
  {
   "cell_type": "code",
   "execution_count": 24,
   "metadata": {
    "execution": {
     "iopub.execute_input": "2021-11-04T03:01:04.416562Z",
     "iopub.status.busy": "2021-11-04T03:01:04.416210Z",
     "iopub.status.idle": "2021-11-04T03:01:04.425681Z",
     "shell.execute_reply": "2021-11-04T03:01:04.424555Z",
     "shell.execute_reply.started": "2021-11-04T03:01:04.416518Z"
    }
   },
   "outputs": [],
   "source": [
    "def function2(feature_value,Y):\n",
    "    '''\n",
    "    The function returns the logloss given the feature variable and truth values of MoA predictions.\n",
    "    '''\n",
    "    y_true=Y.values\n",
    "    y_pred=function1(feature_value)\n",
    "    return f'The loss value is {-backend.mean(y_true*backend.log(y_pred) + (1-y_true)*backend.log(1-y_pred))}'"
   ]
  },
  {
   "cell_type": "code",
   "execution_count": 25,
   "metadata": {
    "execution": {
     "iopub.execute_input": "2021-11-04T03:01:04.427123Z",
     "iopub.status.busy": "2021-11-04T03:01:04.426873Z",
     "iopub.status.idle": "2021-11-04T03:08:00.022512Z",
     "shell.execute_reply": "2021-11-04T03:08:00.021562Z",
     "shell.execute_reply.started": "2021-11-04T03:01:04.427078Z"
    }
   },
   "outputs": [
    {
     "data": {
      "text/plain": [
       "'The loss value is 0.043939017812710875'"
      ]
     },
     "execution_count": 25,
     "metadata": {},
     "output_type": "execute_result"
    }
   ],
   "source": [
    "function2(feature_value,Y)\n"
   ]
  },
  {
   "cell_type": "code",
   "execution_count": null,
   "metadata": {},
   "outputs": [],
   "source": []
  },
  {
   "cell_type": "code",
   "execution_count": null,
   "metadata": {},
   "outputs": [],
   "source": []
  }
 ],
 "metadata": {
  "kernelspec": {
   "display_name": "Python 3 (ipykernel)",
   "language": "python",
   "name": "python3"
  },
  "language_info": {
   "codemirror_mode": {
    "name": "ipython",
    "version": 3
   },
   "file_extension": ".py",
   "mimetype": "text/x-python",
   "name": "python",
   "nbconvert_exporter": "python",
   "pygments_lexer": "ipython3",
   "version": "3.8.12"
  }
 },
 "nbformat": 4,
 "nbformat_minor": 4
}
