{
 "cells": [
  {
   "cell_type": "code",
   "execution_count": 8,
   "metadata": {
    "tags": []
   },
   "outputs": [],
   "source": [
    "#importing important libraries\n",
    "\n",
    "import pandas as pd\n",
    "import numpy as np\n",
    "import matplotlib.pyplot as plt\n",
    "import seaborn as sns\n",
    "import pickle\n",
    "from skmultilearn.model_selection import iterative_train_test_split\n",
    "from iterstrat.ml_stratifiers import MultilabelStratifiedKFold\n",
    "\n",
    "from sklearn.model_selection import KFold\n",
    "from sklearn.model_selection import StratifiedKFold\n",
    "from sklearn.metrics import log_loss,f1_score,confusion_matrix\n",
    "from sklearn.multiclass import OneVsRestClassifier\n",
    "from sklearn.ensemble import RandomForestClassifier\n",
    "import xgboost as xgb\n",
    "from sklearn.metrics import accuracy_score\n",
    "from tensorflow.keras.models import load_model\n",
    "\n",
    "from sklearn.preprocessing import LabelEncoder"
   ]
  },
  {
   "cell_type": "code",
   "execution_count": 2,
   "metadata": {},
   "outputs": [],
   "source": [
    "import tensorflow as tf\n",
    "\n"
   ]
  },
  {
   "cell_type": "code",
   "execution_count": 6,
   "metadata": {},
   "outputs": [
    {
     "ename": "AttributeError",
     "evalue": "module 'tensorflow' has no attribute 'version'",
     "output_type": "error",
     "traceback": [
      "\u001b[1;31m---------------------------------------------------------------------------\u001b[0m",
      "\u001b[1;31mAttributeError\u001b[0m                            Traceback (most recent call last)",
      "\u001b[1;32m~\\AppData\\Local\\Temp/ipykernel_15764/2532368193.py\u001b[0m in \u001b[0;36m<module>\u001b[1;34m\u001b[0m\n\u001b[1;32m----> 1\u001b[1;33m \u001b[0mtf\u001b[0m\u001b[1;33m.\u001b[0m\u001b[0mversion\u001b[0m\u001b[1;33m\u001b[0m\u001b[1;33m\u001b[0m\u001b[0m\n\u001b[0m",
      "\u001b[1;31mAttributeError\u001b[0m: module 'tensorflow' has no attribute 'version'"
     ]
    }
   ],
   "source": [
    "tf.version"
   ]
  },
  {
   "cell_type": "code",
   "execution_count": 10,
   "metadata": {},
   "outputs": [
    {
     "data": {
      "text/plain": [
       "'3.1.0'"
      ]
     },
     "execution_count": 10,
     "metadata": {},
     "output_type": "execute_result"
    }
   ],
   "source": [
    "import h5py\n",
    "\n",
    "h5py.__version__\n"
   ]
  },
  {
   "cell_type": "code",
   "execution_count": 4,
   "metadata": {
    "execution": {
     "iopub.execute_input": "2021-10-30T14:51:49.798380Z",
     "iopub.status.busy": "2021-10-30T14:51:49.798156Z",
     "iopub.status.idle": "2021-10-30T14:51:49.804227Z",
     "shell.execute_reply": "2021-10-30T14:51:49.803562Z",
     "shell.execute_reply.started": "2021-10-30T14:51:49.798350Z"
    }
   },
   "outputs": [],
   "source": [
    "import warnings\n",
    "warnings.filterwarnings(\"ignore\")"
   ]
  },
  {
   "cell_type": "code",
   "execution_count": 5,
   "metadata": {
    "execution": {
     "iopub.execute_input": "2021-10-30T14:51:49.806969Z",
     "iopub.status.busy": "2021-10-30T14:51:49.806393Z",
     "iopub.status.idle": "2021-10-30T14:51:49.819617Z",
     "shell.execute_reply": "2021-10-30T14:51:49.818964Z",
     "shell.execute_reply.started": "2021-10-30T14:51:49.806924Z"
    }
   },
   "outputs": [],
   "source": [
    "import random\n",
    "def seed_everything(seed=42):\n",
    "    random.seed(seed)\n",
    "    os.environ['PYTHONHASHSEED'] = str(seed)\n",
    "    np.random.seed(seed)\n",
    "seed_everything(seed=42)"
   ]
  },
  {
   "cell_type": "code",
   "execution_count": 6,
   "metadata": {
    "execution": {
     "iopub.execute_input": "2021-10-30T14:51:49.821364Z",
     "iopub.status.busy": "2021-10-30T14:51:49.821092Z",
     "iopub.status.idle": "2021-10-30T14:51:57.289836Z",
     "shell.execute_reply": "2021-10-30T14:51:57.289079Z",
     "shell.execute_reply.started": "2021-10-30T14:51:49.821327Z"
    }
   },
   "outputs": [],
   "source": [
    "#reading train dataset\n",
    "\n",
    "train_features=pd.read_csv('../input/lish-moa/train_features.csv')\n",
    "test_features=pd.read_csv('../input/lish-moa/test_features.csv')\n",
    "train_targets_scored=pd.read_csv('../input/lish-moa/train_targets_scored.csv')\n",
    "train_targets_nonscored=pd.read_csv('../input/lish-moa/train_targets_nonscored.csv')\n",
    "train_drug=pd.read_csv('../input/lish-moa/train_drug.csv')"
   ]
  },
  {
   "cell_type": "markdown",
   "metadata": {},
   "source": []
  },
  {
   "cell_type": "code",
   "execution_count": 7,
   "metadata": {
    "execution": {
     "iopub.execute_input": "2021-10-30T14:51:57.291589Z",
     "iopub.status.busy": "2021-10-30T14:51:57.291324Z",
     "iopub.status.idle": "2021-10-30T14:51:57.296297Z",
     "shell.execute_reply": "2021-10-30T14:51:57.295575Z",
     "shell.execute_reply.started": "2021-10-30T14:51:57.291555Z"
    }
   },
   "outputs": [],
   "source": [
    "#list of names of the MoAs in the dataset\n",
    "target_cols_scored=[col for col in train_targets_scored.columns if col not in ['sig_id']]\n",
    "target_cols_nonscored=[col for col in train_targets_nonscored.columns if col not in ['sig_id']]"
   ]
  },
  {
   "cell_type": "code",
   "execution_count": 8,
   "metadata": {
    "execution": {
     "iopub.execute_input": "2021-10-30T14:51:57.298177Z",
     "iopub.status.busy": "2021-10-30T14:51:57.297705Z",
     "iopub.status.idle": "2021-10-30T14:51:57.306259Z",
     "shell.execute_reply": "2021-10-30T14:51:57.305524Z",
     "shell.execute_reply.started": "2021-10-30T14:51:57.298140Z"
    }
   },
   "outputs": [],
   "source": [
    "#separating gene feautres and cell features in a separate list\n",
    "#we know that all the gene expression features name starts with 'g-' and cell features name starts with 'c-', hence trying to observe set of all the gene expression as one function and all the cell functions as one features\n",
    "gene_features=[]\n",
    "cell_features=[]\n",
    "for i in train_features.columns:\n",
    "    if i.startswith('g-'):\n",
    "        gene_features.append(i)\n",
    "    if i.startswith('c-'):\n",
    "        cell_features.append(i)"
   ]
  },
  {
   "cell_type": "code",
   "execution_count": 9,
   "metadata": {
    "execution": {
     "iopub.execute_input": "2021-10-30T14:51:57.307825Z",
     "iopub.status.busy": "2021-10-30T14:51:57.307548Z",
     "iopub.status.idle": "2021-10-30T14:51:57.448377Z",
     "shell.execute_reply": "2021-10-30T14:51:57.447637Z",
     "shell.execute_reply.started": "2021-10-30T14:51:57.307785Z"
    }
   },
   "outputs": [],
   "source": [
    "#merging the train dataset and train target scored dataset into one\n",
    "train_merge=pd.merge(train_features,train_targets_scored,on=\"sig_id\",how=\"left\")"
   ]
  },
  {
   "cell_type": "code",
   "execution_count": 10,
   "metadata": {
    "execution": {
     "iopub.execute_input": "2021-10-30T14:51:57.449841Z",
     "iopub.status.busy": "2021-10-30T14:51:57.449588Z",
     "iopub.status.idle": "2021-10-30T14:51:57.571124Z",
     "shell.execute_reply": "2021-10-30T14:51:57.570316Z",
     "shell.execute_reply.started": "2021-10-30T14:51:57.449808Z"
    }
   },
   "outputs": [],
   "source": [
    "train_merge=train_merge[train_merge['cp_type']!='ctl_vehicle']\n",
    "#test_features1=test_features.copy()\n",
    "test_features1=test_features[test_features['cp_type']!='ctl_vehicle']"
   ]
  },
  {
   "cell_type": "code",
   "execution_count": 11,
   "metadata": {
    "execution": {
     "iopub.execute_input": "2021-10-30T14:51:57.572981Z",
     "iopub.status.busy": "2021-10-30T14:51:57.572677Z",
     "iopub.status.idle": "2021-10-30T14:51:57.649782Z",
     "shell.execute_reply": "2021-10-30T14:51:57.649060Z",
     "shell.execute_reply.started": "2021-10-30T14:51:57.572937Z"
    }
   },
   "outputs": [],
   "source": [
    "train_merge.drop(columns=['cp_type'],inplace=True)\n",
    "test_features1.drop(columns=['cp_type'],inplace=True)"
   ]
  },
  {
   "cell_type": "code",
   "execution_count": 12,
   "metadata": {
    "execution": {
     "iopub.execute_input": "2021-10-30T14:51:57.652416Z",
     "iopub.status.busy": "2021-10-30T14:51:57.651997Z",
     "iopub.status.idle": "2021-10-30T14:51:57.657723Z",
     "shell.execute_reply": "2021-10-30T14:51:57.656871Z",
     "shell.execute_reply.started": "2021-10-30T14:51:57.652379Z"
    }
   },
   "outputs": [],
   "source": [
    "import tensorflow as tf\n",
    "from tensorflow.keras.layers import *"
   ]
  },
  {
   "cell_type": "code",
   "execution_count": 13,
   "metadata": {
    "execution": {
     "iopub.execute_input": "2021-10-30T14:51:57.659587Z",
     "iopub.status.busy": "2021-10-30T14:51:57.659315Z",
     "iopub.status.idle": "2021-10-30T14:51:57.676996Z",
     "shell.execute_reply": "2021-10-30T14:51:57.676267Z",
     "shell.execute_reply.started": "2021-10-30T14:51:57.659551Z"
    }
   },
   "outputs": [],
   "source": [
    "from sklearn.decomposition import PCA\n",
    "\n",
    "def PCA_decomposition(train,valid,test,n_comp_gene,n_comp_cell,seed):\n",
    "     '''\n",
    "    function is used to generate pca components of gene and cell features of train, validationa and test set\n",
    "    Args:\n",
    "        train:train dataset\n",
    "        valid:validation dataset\n",
    "        test:test dataset\n",
    "        n_comp_gene: number of PCA components for gene features\n",
    "        n_comp_cell: number of PCA components for cell features\n",
    "        \n",
    "    Returns:\n",
    "    \n",
    "        train:train dataset with concatenation of pca generated features\n",
    "        valid:validation dataset with concatenation of pca generated features\n",
    "        test:test dataset with concatenation of pca generated features\n",
    "        \n",
    "    '''\n",
    "    pca_gene_feat=[f'pca_gene_{col}' for col in range(n_comp_gene)]\n",
    "    pca_cell_feat=[f'pca_cell_{col}' for col in range(n_comp_cell)]\n",
    "    pca_gene=PCA(n_components=n_comp_gene,random_state=seed)\n",
    "    X_train_pca_gene=pd.DataFrame(pca_gene.fit_transform(train[gene_features]),columns=pca_gene_feat).reset_index(drop=True)\n",
    "    X_valid_pca_gene=pd.DataFrame(pca_gene.transform(valid[gene_features]), columns=pca_gene_feat).reset_index(drop=True)\n",
    "    X_test_pca_gene=pd.DataFrame(pca_gene.transform(test[gene_features]), columns=pca_gene_feat).reset_index(drop=True)\n",
    "\n",
    "    pca_cell=PCA(n_components=n_comp_cell,random_state=seed)\n",
    "    X_train_pca_cell=pd.DataFrame(pca_cell.fit_transform(train[cell_features]), columns=pca_cell_feat).reset_index(drop=True)\n",
    "    X_valid_pca_cell=pd.DataFrame(pca_cell.transform(valid[cell_features]), columns=pca_cell_feat).reset_index(drop=True)\n",
    "    X_test_pca_cell=pd.DataFrame(pca_cell.transform(test[cell_features]), columns=pca_cell_feat).reset_index(drop=True)\n",
    "    \n",
    "    train=pd.concat([train.reset_index(drop=True),X_train_pca_gene,X_train_pca_cell],axis=1)\n",
    "    valid=pd.concat([valid.reset_index(drop=True),X_valid_pca_gene,X_valid_pca_cell],axis=1)\n",
    "    test=pd.concat([test.reset_index(drop=True),X_test_pca_gene,X_test_pca_cell],axis=1)\n",
    "    return train,valid,test"
   ]
  },
  {
   "cell_type": "code",
   "execution_count": 14,
   "metadata": {
    "execution": {
     "iopub.execute_input": "2021-10-30T14:51:57.683664Z",
     "iopub.status.busy": "2021-10-30T14:51:57.681492Z",
     "iopub.status.idle": "2021-10-30T14:51:57.693907Z",
     "shell.execute_reply": "2021-10-30T14:51:57.693128Z",
     "shell.execute_reply.started": "2021-10-30T14:51:57.681883Z"
    }
   },
   "outputs": [],
   "source": [
    "from sklearn.preprocessing import QuantileTransformer\n",
    "def quantile_scaling(train,valid,test):\n",
    "    \n",
    "       '''\n",
    "       takes in input, valid, test for quantile transformation\n",
    "       Args:\n",
    "            train:train dataset\n",
    "            valid:validation dataset\n",
    "            test:test dataset\n",
    "       Returns:\n",
    "            train: transformed train dataset\n",
    "            valid: transformed validation dataset\n",
    "            test:  transformed test dataset\n",
    "        \n",
    "        '''\n",
    "        \n",
    "       qt=QuantileTransformer(output_distribution='normal')\n",
    "       train=qt.fit_transform(train)\n",
    "       valid=qt.transform(valid)\n",
    "       test=qt.transform(test)\n",
    "       return train,valid,test"
   ]
  },
  {
   "cell_type": "code",
   "execution_count": 15,
   "metadata": {
    "execution": {
     "iopub.execute_input": "2021-10-30T14:51:57.696722Z",
     "iopub.status.busy": "2021-10-30T14:51:57.696144Z",
     "iopub.status.idle": "2021-10-30T14:51:57.716420Z",
     "shell.execute_reply": "2021-10-30T14:51:57.715742Z",
     "shell.execute_reply.started": "2021-10-30T14:51:57.696684Z"
    }
   },
   "outputs": [],
   "source": [
    "lb=LabelEncoder()\n",
    "lb.fit(train_merge['cp_time'])\n",
    "\n",
    "train_merge['cp_time']=lb.transform(train_merge['cp_time'])\n",
    "test_features1['cp_time']=lb.transform(test_features1['cp_time'])\n",
    "##################################################################################\n",
    "lb1=LabelEncoder()\n",
    "lb1.fit(train_merge['cp_dose'])\n",
    "\n",
    "train_merge['cp_dose']=lb1.transform(train_merge['cp_dose'])\n",
    "test_features1['cp_dose']=lb1.transform(test_features1['cp_dose'])"
   ]
  },
  {
   "cell_type": "code",
   "execution_count": 16,
   "metadata": {
    "execution": {
     "iopub.execute_input": "2021-10-30T14:51:57.718058Z",
     "iopub.status.busy": "2021-10-30T14:51:57.717779Z",
     "iopub.status.idle": "2021-10-30T14:51:57.722970Z",
     "shell.execute_reply": "2021-10-30T14:51:57.721203Z",
     "shell.execute_reply.started": "2021-10-30T14:51:57.718024Z"
    }
   },
   "outputs": [],
   "source": [
    "feature_groups=gene_features+cell_features+['cp_time','cp_dose']"
   ]
  },
  {
   "cell_type": "code",
   "execution_count": 17,
   "metadata": {
    "execution": {
     "iopub.execute_input": "2021-10-30T14:51:57.724989Z",
     "iopub.status.busy": "2021-10-30T14:51:57.724215Z",
     "iopub.status.idle": "2021-10-30T14:51:57.804298Z",
     "shell.execute_reply": "2021-10-30T14:51:57.803578Z",
     "shell.execute_reply.started": "2021-10-30T14:51:57.724950Z"
    }
   },
   "outputs": [],
   "source": [
    "train_dataset=train_merge[feature_groups]\n"
   ]
  },
  {
   "cell_type": "code",
   "execution_count": 18,
   "metadata": {
    "execution": {
     "iopub.execute_input": "2021-10-30T14:51:57.805656Z",
     "iopub.status.busy": "2021-10-30T14:51:57.805390Z",
     "iopub.status.idle": "2021-10-30T14:51:57.822629Z",
     "shell.execute_reply": "2021-10-30T14:51:57.821949Z",
     "shell.execute_reply.started": "2021-10-30T14:51:57.805620Z"
    }
   },
   "outputs": [],
   "source": [
    "test_dataset=test_features1[feature_groups]\n"
   ]
  },
  {
   "cell_type": "code",
   "execution_count": 19,
   "metadata": {
    "execution": {
     "iopub.execute_input": "2021-10-30T14:51:57.823839Z",
     "iopub.status.busy": "2021-10-30T14:51:57.823633Z",
     "iopub.status.idle": "2021-10-30T14:51:57.841420Z",
     "shell.execute_reply": "2021-10-30T14:51:57.840429Z",
     "shell.execute_reply.started": "2021-10-30T14:51:57.823816Z"
    }
   },
   "outputs": [],
   "source": [
    "Y=train_merge[target_cols_scored]\n"
   ]
  },
  {
   "cell_type": "code",
   "execution_count": 20,
   "metadata": {
    "execution": {
     "iopub.execute_input": "2021-10-30T14:51:57.843371Z",
     "iopub.status.busy": "2021-10-30T14:51:57.843094Z",
     "iopub.status.idle": "2021-10-30T14:51:57.850098Z",
     "shell.execute_reply": "2021-10-30T14:51:57.849174Z",
     "shell.execute_reply.started": "2021-10-30T14:51:57.843334Z"
    }
   },
   "outputs": [],
   "source": [
    "#define frequency table\n",
    "def f_table(list1):\n",
    "    table_dic={}\n",
    "    for i in list1:\n",
    "        if i not in table_dic.keys():\n",
    "            table_dic[i]=1\n",
    "        else:\n",
    "            table_dic[i]+=1\n",
    "    return table_dic"
   ]
  },
  {
   "cell_type": "code",
   "execution_count": 21,
   "metadata": {
    "execution": {
     "iopub.execute_input": "2021-10-30T14:51:57.851640Z",
     "iopub.status.busy": "2021-10-30T14:51:57.851241Z",
     "iopub.status.idle": "2021-10-30T14:51:57.858930Z",
     "shell.execute_reply": "2021-10-30T14:51:57.858077Z",
     "shell.execute_reply.started": "2021-10-30T14:51:57.851603Z"
    }
   },
   "outputs": [],
   "source": [
    "from copy import deepcopy as dp\n"
   ]
  },
  {
   "cell_type": "code",
   "execution_count": 22,
   "metadata": {
    "execution": {
     "iopub.execute_input": "2021-10-30T14:51:57.862027Z",
     "iopub.status.busy": "2021-10-30T14:51:57.861734Z",
     "iopub.status.idle": "2021-10-30T14:52:01.553097Z",
     "shell.execute_reply": "2021-10-30T14:52:01.552273Z",
     "shell.execute_reply.started": "2021-10-30T14:51:57.862002Z"
    }
   },
   "outputs": [],
   "source": [
    "tar_freq = np.array([np.min(list(f_table(train_merge[target_cols_scored].iloc[:,i]).values())) for i in range(len(target_cols_scored))])\n",
    "tar_weight0 = np.array([np.log(i+100) for i in tar_freq])\n",
    "tar_weight0_min = dp(np.min(tar_weight0))\n",
    "tar_weight = tar_weight0_min/tar_weight0"
   ]
  },
  {
   "cell_type": "code",
   "execution_count": 23,
   "metadata": {
    "execution": {
     "iopub.execute_input": "2021-10-30T14:52:01.554703Z",
     "iopub.status.busy": "2021-10-30T14:52:01.554468Z",
     "iopub.status.idle": "2021-10-30T14:52:01.678085Z",
     "shell.execute_reply": "2021-10-30T14:52:01.672874Z",
     "shell.execute_reply.started": "2021-10-30T14:52:01.554671Z"
    }
   },
   "outputs": [],
   "source": [
    "import tensorflow_addons as tfa\n"
   ]
  },
  {
   "cell_type": "code",
   "execution_count": 24,
   "metadata": {
    "execution": {
     "iopub.execute_input": "2021-10-30T14:52:01.683533Z",
     "iopub.status.busy": "2021-10-30T14:52:01.683073Z",
     "iopub.status.idle": "2021-10-30T14:52:01.697389Z",
     "shell.execute_reply": "2021-10-30T14:52:01.694971Z",
     "shell.execute_reply.started": "2021-10-30T14:52:01.683488Z"
    }
   },
   "outputs": [],
   "source": [
    "from tensorflow.keras import backend\n",
    "def logloss(y_true, y_pred):\n",
    "    #y_pred = tf.clip_by_value(y_pred,0.001,0.999)\n",
    "    return -backend.mean(y_true*backend.log(y_pred) + (1-y_true)*backend.log(1-y_pred))"
   ]
  },
  {
   "cell_type": "code",
   "execution_count": 25,
   "metadata": {
    "execution": {
     "iopub.execute_input": "2021-10-30T14:52:01.699280Z",
     "iopub.status.busy": "2021-10-30T14:52:01.699039Z",
     "iopub.status.idle": "2021-10-30T14:52:01.744285Z",
     "shell.execute_reply": "2021-10-30T14:52:01.743474Z",
     "shell.execute_reply.started": "2021-10-30T14:52:01.699246Z"
    }
   },
   "outputs": [],
   "source": [
    "n_folds=10\n",
    "SEEDS=[660,42,2020,72,64]\n",
    "def inference():\n",
    "    \n",
    "    '''\n",
    "    The function is responsible for taking a weighted average prediction of the output of the four models.\n",
    "    \n",
    "    '''\n",
    "    \n",
    "    y_pred_model1_seed_level=np.zeros((len(test_dataset),206))\n",
    "    oof_model1_seed_level=np.zeros((len(train_dataset),206))\n",
    "    \n",
    "    y_pred_model2_seed_level=np.zeros((len(test_dataset),206))\n",
    "    oof_model2_seed_level=np.zeros((len(train_dataset),206))\n",
    "    \n",
    "    y_pred_model3_seed_level=np.zeros((len(test_dataset),206))\n",
    "    oof_model3_seed_level=np.zeros((len(train_dataset),206))\n",
    "    \n",
    "    y_pred_model4_seed_level=np.zeros((len(test_dataset),206))\n",
    "    oof_model4_seed_level=np.zeros((len(train_dataset),206))\n",
    "    \n",
    "    \n",
    "    for seed in SEEDS:\n",
    "        seed_everything(seed)\n",
    "        y_pred_model1=np.zeros((len(test_dataset),206))\n",
    "        oof_model1=np.zeros((len(train_dataset),206))\n",
    "        \n",
    "        y_pred_model2=np.zeros((len(test_dataset),206))\n",
    "        oof_model2=np.zeros((len(train_dataset),206))\n",
    "        \n",
    "        y_pred_model3=np.zeros((len(test_dataset),206))\n",
    "        oof_model3=np.zeros((len(train_dataset),206))\n",
    "        \n",
    "        y_pred_model4=np.zeros((len(test_dataset),206))\n",
    "        oof_model4=np.zeros((len(train_dataset),206))\n",
    "        fold=0\n",
    "        mskf = MultilabelStratifiedKFold(n_splits=n_folds,shuffle=True,random_state=seed)\n",
    "        for train_idx, test_idx in mskf.split(train_dataset,Y):\n",
    "\n",
    "            train=train_dataset.iloc[train_idx]\n",
    "            validation=train_dataset.iloc[test_idx]\n",
    "\n",
    "            label_train=Y[target_cols_scored].iloc[train_idx]\n",
    "            label_validation=Y[target_cols_scored].iloc[test_idx]\n",
    "\n",
    "            #######################MODEL-1_NN#######################################################################################\n",
    "            \n",
    "            \n",
    "            train1=train.copy()\n",
    "            validation1=validation.copy()\n",
    "            test1=test_dataset.copy()\n",
    "            train1,validation1,test1=PCA_decomposition(train1,validation1,test1,212,42,seed)\n",
    "\n",
    "            train1,validation1,test1=quantile_scaling(train1,validation1,test1)\n",
    "\n",
    "            model1=load_model(f'../input/model-1-simple-nn-for-ensembling-ver1/model1_simple_nn_blending_seed{seed}_fold{fold}.h5')\n",
    "            y_pred1=model1.predict(test1)\n",
    "            y_valid=model1.predict(validation1)\n",
    "            y_pred_model1=y_pred_model1+y_pred1\n",
    "            oof_model1[test_idx]=y_valid\n",
    "           \n",
    "            \n",
    "            ############################################MODEL-2-CNN#######################################################################\n",
    "        \n",
    "            \n",
    "            train2=train.copy()\n",
    "            validation2=validation.copy()\n",
    "            test2=test_dataset.copy()\n",
    "            train2,validation2,test2=PCA_decomposition(train2,validation2,test2,46,31,seed)\n",
    "            train2,validation2,test2=quantile_scaling(train2,validation2,test2)\n",
    "            model2=load_model(f'../input/model-2-cnn-for-ensembling-ver1/model_cnn_seed{seed}_fold{fold}.h5')\n",
    "            y_pred2=model2.predict(test2)\n",
    "            y_valid2=model2.predict(validation2)\n",
    "            y_pred_model2=y_pred_model2+y_pred2\n",
    "            oof_model2[test_idx]=y_valid2\n",
    "            \n",
    "            \n",
    "            ##############################################MODEL-3-NN##########################################################################\n",
    "            \n",
    "            train3=train.copy()\n",
    "            validation3=validation.copy()\n",
    "            test3=test_dataset.copy()\n",
    "            train3,validation3,test3=PCA_decomposition(train3,validation3,test3,212,42,seed)\n",
    "            train3,validation3,test3=quantile_scaling(train3,validation3,test3)\n",
    "            model3=load_model(f'../input/model-3-simple-rnn-ensembling-ver1/model3_simple_nn_blending_seed{seed}_fold{fold}.h5')\n",
    "            y_pred3=model3.predict(test3)\n",
    "            y_valid3=model3.predict(validation3)\n",
    "            y_pred_model3=y_pred_model3+y_pred3\n",
    "            oof_model3[test_idx]=y_valid3\n",
    "            \n",
    "            ##################################################MODEL-4-NN#############################################################################\n",
    "            train4=train.copy()\n",
    "            validation4=validation.copy()\n",
    "            test4=test_dataset.copy()\n",
    "            train4,validation4,test4=PCA_decomposition(train4,validation4,test4,212,42,seed)\n",
    "            train4,validation4,test4=quantile_scaling(train4,validation4,test4)\n",
    "            model4=load_model(f'../input/model-4-simple-rnn-ensembling-ver1/model4_simple_nn_blending_seed{seed}_fold{fold}.h5')\n",
    "            y_pred4=model4.predict(test4)\n",
    "            y_valid4=model4.predict(validation4)\n",
    "            y_pred_model4=y_pred_model4+y_pred4\n",
    "            oof_model4[test_idx]=y_valid4\n",
    "            ######################################################################################################################\n",
    "            \n",
    "            \n",
    "            fold=fold+1\n",
    "            print(f'end of fold{fold}')\n",
    "        print(f'end of seed{seed}')\n",
    "        \n",
    "        oof_model1_seed_level=oof_model1_seed_level+oof_model1\n",
    "        y_pred_model1_seed_level=y_pred_model1_seed_level+y_pred_model1\n",
    "        \n",
    "        oof_model2_seed_level=oof_model2_seed_level+oof_model2\n",
    "        y_pred_model2_seed_level=y_pred_model2_seed_level+y_pred_model2\n",
    "        \n",
    "        oof_model3_seed_level=oof_model3_seed_level+oof_model3\n",
    "        y_pred_model3_seed_level=y_pred_model3_seed_level+y_pred_model3\n",
    "        \n",
    "        oof_model4_seed_level=oof_model4_seed_level+oof_model4\n",
    "        y_pred_model4_seed_level=y_pred_model4_seed_level+y_pred_model4\n",
    "        \n",
    "    \n",
    "    y_pred_model1_seed_level=y_pred_model1_seed_level/(n_folds*len(SEEDS))\n",
    "    y_pred_model2_seed_level=y_pred_model2_seed_level/(n_folds*len(SEEDS))\n",
    "    y_pred_model3_seed_level=y_pred_model3_seed_level/(n_folds*len(SEEDS))\n",
    "    y_pred_model4_seed_level=y_pred_model4_seed_level/(n_folds*len(SEEDS))\n",
    "    \n",
    "    oof_model1_seed_level=oof_model1_seed_level/(len(SEEDS))\n",
    "    oof_model2_seed_level=oof_model2_seed_level/(len(SEEDS))\n",
    "    oof_model3_seed_level=oof_model3_seed_level/(len(SEEDS))\n",
    "    oof_model4_seed_level=oof_model4_seed_level/(len(SEEDS))\n",
    "        \n",
    "\n",
    "        \n",
    "    return y_pred_model1_seed_level,y_pred_model2_seed_level,y_pred_model3_seed_level,y_pred_model4_seed_level,oof_model1_seed_level,oof_model2_seed_level,oof_model3_seed_level,oof_model4_seed_level"
   ]
  },
  {
   "cell_type": "code",
   "execution_count": 26,
   "metadata": {
    "execution": {
     "iopub.execute_input": "2021-10-30T14:52:01.755905Z",
     "iopub.status.busy": "2021-10-30T14:52:01.753518Z",
     "iopub.status.idle": "2021-10-30T15:46:03.749045Z",
     "shell.execute_reply": "2021-10-30T15:46:03.748238Z",
     "shell.execute_reply.started": "2021-10-30T14:52:01.755851Z"
    }
   },
   "outputs": [
    {
     "name": "stderr",
     "output_type": "stream",
     "text": [
      "2021-10-30 14:52:17.885368: I tensorflow/stream_executor/cuda/cuda_gpu_executor.cc:937] successful NUMA node read from SysFS had negative value (-1), but there must be at least one NUMA node, so returning NUMA node zero\n",
      "2021-10-30 14:52:17.972818: I tensorflow/stream_executor/cuda/cuda_gpu_executor.cc:937] successful NUMA node read from SysFS had negative value (-1), but there must be at least one NUMA node, so returning NUMA node zero\n",
      "2021-10-30 14:52:17.973563: I tensorflow/stream_executor/cuda/cuda_gpu_executor.cc:937] successful NUMA node read from SysFS had negative value (-1), but there must be at least one NUMA node, so returning NUMA node zero\n",
      "2021-10-30 14:52:17.975347: I tensorflow/core/platform/cpu_feature_guard.cc:142] This TensorFlow binary is optimized with oneAPI Deep Neural Network Library (oneDNN) to use the following CPU instructions in performance-critical operations:  AVX2 AVX512F FMA\n",
      "To enable them in other operations, rebuild TensorFlow with the appropriate compiler flags.\n",
      "2021-10-30 14:52:17.976486: I tensorflow/stream_executor/cuda/cuda_gpu_executor.cc:937] successful NUMA node read from SysFS had negative value (-1), but there must be at least one NUMA node, so returning NUMA node zero\n",
      "2021-10-30 14:52:17.977235: I tensorflow/stream_executor/cuda/cuda_gpu_executor.cc:937] successful NUMA node read from SysFS had negative value (-1), but there must be at least one NUMA node, so returning NUMA node zero\n",
      "2021-10-30 14:52:17.977878: I tensorflow/stream_executor/cuda/cuda_gpu_executor.cc:937] successful NUMA node read from SysFS had negative value (-1), but there must be at least one NUMA node, so returning NUMA node zero\n",
      "2021-10-30 14:52:19.686716: I tensorflow/stream_executor/cuda/cuda_gpu_executor.cc:937] successful NUMA node read from SysFS had negative value (-1), but there must be at least one NUMA node, so returning NUMA node zero\n",
      "2021-10-30 14:52:19.687600: I tensorflow/stream_executor/cuda/cuda_gpu_executor.cc:937] successful NUMA node read from SysFS had negative value (-1), but there must be at least one NUMA node, so returning NUMA node zero\n",
      "2021-10-30 14:52:19.688265: I tensorflow/stream_executor/cuda/cuda_gpu_executor.cc:937] successful NUMA node read from SysFS had negative value (-1), but there must be at least one NUMA node, so returning NUMA node zero\n",
      "2021-10-30 14:52:19.688837: I tensorflow/core/common_runtime/gpu/gpu_device.cc:1510] Created device /job:localhost/replica:0/task:0/device:GPU:0 with 15403 MB memory:  -> device: 0, name: Tesla P100-PCIE-16GB, pci bus id: 0000:00:04.0, compute capability: 6.0\n",
      "2021-10-30 14:52:22.740712: I tensorflow/compiler/mlir/mlir_graph_optimization_pass.cc:185] None of the MLIR Optimization Passes are enabled (registered 2)\n",
      "2021-10-30 14:52:41.250537: I tensorflow/stream_executor/cuda/cuda_dnn.cc:369] Loaded cuDNN version 8005\n"
     ]
    },
    {
     "name": "stdout",
     "output_type": "stream",
     "text": [
      "end of fold1\n",
      "end of fold2\n",
      "end of fold3\n",
      "end of fold4\n",
      "end of fold5\n",
      "end of fold6\n",
      "end of fold7\n",
      "end of fold8\n",
      "end of fold9\n",
      "end of fold10\n",
      "end of seed660\n",
      "end of fold1\n",
      "end of fold2\n",
      "end of fold3\n",
      "end of fold4\n",
      "end of fold5\n",
      "end of fold6\n",
      "end of fold7\n",
      "end of fold8\n",
      "end of fold9\n",
      "end of fold10\n",
      "end of seed42\n",
      "end of fold1\n",
      "end of fold2\n",
      "end of fold3\n",
      "end of fold4\n",
      "end of fold5\n",
      "end of fold6\n",
      "end of fold7\n",
      "end of fold8\n",
      "end of fold9\n",
      "end of fold10\n",
      "end of seed2020\n",
      "end of fold1\n",
      "end of fold2\n",
      "end of fold3\n",
      "end of fold4\n",
      "end of fold5\n",
      "end of fold6\n",
      "end of fold7\n",
      "end of fold8\n",
      "end of fold9\n",
      "end of fold10\n",
      "end of seed72\n",
      "end of fold1\n",
      "end of fold2\n",
      "end of fold3\n",
      "end of fold4\n",
      "end of fold5\n",
      "end of fold6\n",
      "end of fold7\n",
      "end of fold8\n",
      "end of fold9\n",
      "end of fold10\n",
      "end of seed64\n"
     ]
    }
   ],
   "source": [
    "y_pred_model1_seed_level,y_pred_model2_seed_level,y_pred_model3_seed_level,y_pred_model4_seed_level,oof_model1_seed_level,oof_model2_seed_level,oof_model3_seed_level,oof_model4_seed_level=inference()"
   ]
  },
  {
   "cell_type": "code",
   "execution_count": 27,
   "metadata": {
    "execution": {
     "iopub.execute_input": "2021-10-30T15:46:03.750977Z",
     "iopub.status.busy": "2021-10-30T15:46:03.750293Z",
     "iopub.status.idle": "2021-10-30T15:46:03.813111Z",
     "shell.execute_reply": "2021-10-30T15:46:03.812385Z",
     "shell.execute_reply.started": "2021-10-30T15:46:03.750936Z"
    }
   },
   "outputs": [],
   "source": [
    "y_pred_model_seed_level=0.90*y_pred_model1_seed_level+(0.04)*y_pred_model2_seed_level+(0.02)*y_pred_model3_seed_level+(0.04)*y_pred_model4_seed_level\n",
    "oof_model_seed_level=0.90*oof_model1_seed_level+(0.04)*oof_model2_seed_level+(0.02)*oof_model3_seed_level+(0.04)*oof_model4_seed_level"
   ]
  },
  {
   "cell_type": "code",
   "execution_count": 28,
   "metadata": {
    "execution": {
     "iopub.execute_input": "2021-10-30T15:46:03.814816Z",
     "iopub.status.busy": "2021-10-30T15:46:03.814539Z",
     "iopub.status.idle": "2021-10-30T15:46:03.818209Z",
     "shell.execute_reply": "2021-10-30T15:46:03.817437Z",
     "shell.execute_reply.started": "2021-10-30T15:46:03.814780Z"
    }
   },
   "outputs": [],
   "source": [
    "#y_pred_model_seed_level,oof_model_seed_level=inference()"
   ]
  },
  {
   "cell_type": "code",
   "execution_count": 29,
   "metadata": {
    "execution": {
     "iopub.execute_input": "2021-10-30T15:46:03.822340Z",
     "iopub.status.busy": "2021-10-30T15:46:03.819622Z",
     "iopub.status.idle": "2021-10-30T15:46:03.829759Z",
     "shell.execute_reply": "2021-10-30T15:46:03.828944Z",
     "shell.execute_reply.started": "2021-10-30T15:46:03.822300Z"
    }
   },
   "outputs": [],
   "source": [
    "from tensorflow.keras import backend\n",
    "def logloss(y_true, y_pred):\n",
    "    #y_pred = tf.clip_by_value(y_pred,0.001,0.999)\n",
    "    return -backend.mean(y_true*backend.log(y_pred) + (1-y_true)*backend.log(1-y_pred))"
   ]
  },
  {
   "cell_type": "code",
   "execution_count": 30,
   "metadata": {
    "execution": {
     "iopub.execute_input": "2021-10-30T15:46:03.831617Z",
     "iopub.status.busy": "2021-10-30T15:46:03.831346Z",
     "iopub.status.idle": "2021-10-30T15:46:03.840647Z",
     "shell.execute_reply": "2021-10-30T15:46:03.839856Z",
     "shell.execute_reply.started": "2021-10-30T15:46:03.831582Z"
    }
   },
   "outputs": [],
   "source": [
    "def logloss1(y_true, y_pred):\n",
    "    y_pred = tf.clip_by_value(y_pred,0.001,0.999)\n",
    "    return -backend.mean(y_true*backend.log(y_pred) + (1-y_true)*backend.log(1-y_pred))"
   ]
  },
  {
   "cell_type": "code",
   "execution_count": 31,
   "metadata": {
    "execution": {
     "iopub.execute_input": "2021-10-30T15:46:03.841935Z",
     "iopub.status.busy": "2021-10-30T15:46:03.841656Z",
     "iopub.status.idle": "2021-10-30T15:46:03.976560Z",
     "shell.execute_reply": "2021-10-30T15:46:03.975862Z",
     "shell.execute_reply.started": "2021-10-30T15:46:03.841872Z"
    }
   },
   "outputs": [
    {
     "data": {
      "text/plain": [
       "<tf.Tensor: shape=(), dtype=float64, numpy=0.015649063511428935>"
      ]
     },
     "execution_count": 31,
     "metadata": {},
     "output_type": "execute_result"
    }
   ],
   "source": [
    "logloss(train_merge[target_cols_scored].values,oof_model_seed_level)\n"
   ]
  },
  {
   "cell_type": "markdown",
   "metadata": {},
   "source": [
    "<h2> OBSERVATION </h2>\n",
    "\n",
    "The averaged log loss value for the out of fold data across all the seeds is 0.01564."
   ]
  },
  {
   "cell_type": "markdown",
   "metadata": {},
   "source": []
  },
  {
   "cell_type": "code",
   "execution_count": 32,
   "metadata": {
    "execution": {
     "iopub.execute_input": "2021-10-30T15:46:03.978084Z",
     "iopub.status.busy": "2021-10-30T15:46:03.977675Z",
     "iopub.status.idle": "2021-10-30T15:46:05.010619Z",
     "shell.execute_reply": "2021-10-30T15:46:05.009822Z",
     "shell.execute_reply.started": "2021-10-30T15:46:03.978045Z"
    }
   },
   "outputs": [],
   "source": [
    "sig_id=[]\n",
    "for i in test_features['sig_id']:\n",
    "     if i not in test_features1['sig_id'].values:\n",
    "            sig_id.append(i)"
   ]
  },
  {
   "cell_type": "code",
   "execution_count": 33,
   "metadata": {
    "execution": {
     "iopub.execute_input": "2021-10-30T15:46:05.012214Z",
     "iopub.status.busy": "2021-10-30T15:46:05.011788Z",
     "iopub.status.idle": "2021-10-30T15:46:05.019936Z",
     "shell.execute_reply": "2021-10-30T15:46:05.019223Z",
     "shell.execute_reply.started": "2021-10-30T15:46:05.012177Z"
    }
   },
   "outputs": [
    {
     "data": {
      "text/plain": [
       "(358, 1)"
      ]
     },
     "execution_count": 33,
     "metadata": {},
     "output_type": "execute_result"
    }
   ],
   "source": [
    "sig_id=np.array(sig_id).reshape(len(sig_id),1)\n",
    "sig_id.shape"
   ]
  },
  {
   "cell_type": "code",
   "execution_count": 34,
   "metadata": {
    "execution": {
     "iopub.execute_input": "2021-10-30T15:46:05.024828Z",
     "iopub.status.busy": "2021-10-30T15:46:05.024338Z",
     "iopub.status.idle": "2021-10-30T15:46:05.076197Z",
     "shell.execute_reply": "2021-10-30T15:46:05.075552Z",
     "shell.execute_reply.started": "2021-10-30T15:46:05.024788Z"
    }
   },
   "outputs": [
    {
     "data": {
      "text/plain": [
       "(358, 207)"
      ]
     },
     "execution_count": 34,
     "metadata": {},
     "output_type": "execute_result"
    }
   ],
   "source": [
    "len(sig_id)\n",
    "non_essentials=np.zeros((len(sig_id),len(target_cols_scored)))\n",
    "non_essentials=np.hstack((sig_id,non_essentials))\n",
    "non_essentials.shape"
   ]
  },
  {
   "cell_type": "code",
   "execution_count": 35,
   "metadata": {
    "execution": {
     "iopub.execute_input": "2021-10-30T15:46:05.077787Z",
     "iopub.status.busy": "2021-10-30T15:46:05.077414Z",
     "iopub.status.idle": "2021-10-30T15:46:05.116143Z",
     "shell.execute_reply": "2021-10-30T15:46:05.115366Z",
     "shell.execute_reply.started": "2021-10-30T15:46:05.077756Z"
    }
   },
   "outputs": [
    {
     "data": {
      "text/plain": [
       "(3624, 207)"
      ]
     },
     "execution_count": 35,
     "metadata": {},
     "output_type": "execute_result"
    }
   ],
   "source": [
    "prediction1=np.hstack((test_features1['sig_id'].values.reshape(-1,1),y_pred_model_seed_level))\n",
    "prediction1.shape"
   ]
  },
  {
   "cell_type": "code",
   "execution_count": 36,
   "metadata": {
    "execution": {
     "iopub.execute_input": "2021-10-30T15:46:05.117725Z",
     "iopub.status.busy": "2021-10-30T15:46:05.117483Z",
     "iopub.status.idle": "2021-10-30T15:46:05.140508Z",
     "shell.execute_reply": "2021-10-30T15:46:05.139789Z",
     "shell.execute_reply.started": "2021-10-30T15:46:05.117692Z"
    }
   },
   "outputs": [
    {
     "data": {
      "text/plain": [
       "(3982, 207)"
      ]
     },
     "execution_count": 36,
     "metadata": {},
     "output_type": "execute_result"
    }
   ],
   "source": [
    "prediction1=np.vstack((prediction1,non_essentials))\n",
    "prediction1.shape\n"
   ]
  },
  {
   "cell_type": "code",
   "execution_count": 37,
   "metadata": {
    "execution": {
     "iopub.execute_input": "2021-10-30T15:46:05.141755Z",
     "iopub.status.busy": "2021-10-30T15:46:05.141527Z",
     "iopub.status.idle": "2021-10-30T15:46:05.147274Z",
     "shell.execute_reply": "2021-10-30T15:46:05.146397Z",
     "shell.execute_reply.started": "2021-10-30T15:46:05.141721Z"
    }
   },
   "outputs": [],
   "source": [
    "columns1=['sig_id']\n",
    "columns1.extend(target_cols_scored)"
   ]
  },
  {
   "cell_type": "code",
   "execution_count": 38,
   "metadata": {
    "execution": {
     "iopub.execute_input": "2021-10-30T15:46:05.148863Z",
     "iopub.status.busy": "2021-10-30T15:46:05.148612Z",
     "iopub.status.idle": "2021-10-30T15:46:05.216150Z",
     "shell.execute_reply": "2021-10-30T15:46:05.215356Z",
     "shell.execute_reply.started": "2021-10-30T15:46:05.148825Z"
    }
   },
   "outputs": [],
   "source": [
    "submission=pd.DataFrame(prediction1,columns=[i for i in columns1])"
   ]
  },
  {
   "cell_type": "code",
   "execution_count": null,
   "metadata": {},
   "outputs": [],
   "source": []
  },
  {
   "cell_type": "code",
   "execution_count": 39,
   "metadata": {
    "execution": {
     "iopub.execute_input": "2021-10-30T15:46:05.217921Z",
     "iopub.status.busy": "2021-10-30T15:46:05.217648Z",
     "iopub.status.idle": "2021-10-30T15:46:06.485538Z",
     "shell.execute_reply": "2021-10-30T15:46:06.484685Z",
     "shell.execute_reply.started": "2021-10-30T15:46:05.217873Z"
    }
   },
   "outputs": [],
   "source": [
    "submission.to_csv(\"submission.csv\",index=False)\n"
   ]
  },
  {
   "attachments": {
    "2b0cb6ae-d9ed-4e44-9501-32212df6ead1.png": {
     "image/png": "[encoded data removed]"
    }
   },
   "cell_type": "markdown",
   "metadata": {},
   "source": [
    "![image.png](attachment:2b0cb6ae-d9ed-4e44-9501-32212df6ead1.png)"
   ]
  },
  {
   "cell_type": "code",
   "execution_count": null,
   "metadata": {},
   "outputs": [],
   "source": []
  }
 ],
 "metadata": {
  "kernelspec": {
   "display_name": "Python 3 (ipykernel)",
   "language": "python",
   "name": "python3"
  },
  "language_info": {
   "codemirror_mode": {
    "name": "ipython",
    "version": 3
   },
   "file_extension": ".py",
   "mimetype": "text/x-python",
   "name": "python",
   "nbconvert_exporter": "python",
   "pygments_lexer": "ipython3",
   "version": "3.8.12"
  }
 },
 "nbformat": 4,
 "nbformat_minor": 4
}
